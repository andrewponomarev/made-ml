{
 "cells": [
  {
   "cell_type": "markdown",
   "metadata": {},
   "source": [
    "# Airbnb price prediction"
   ]
  },
  {
   "cell_type": "markdown",
   "metadata": {},
   "source": [
    "### Outline <a name = 'outline'></a>\n",
    "* [Helpful functions](#helpful_funtions) \n",
    "* [Data exploratory](#data_exploratory)\n",
    "* [Data preprocessing](#data_preprocessing)\n",
    "* [Regression models](#regression_models)"
   ]
  },
  {
   "cell_type": "code",
   "execution_count": 1,
   "metadata": {
    "pycharm": {
     "name": "#%%\n"
    }
   },
   "outputs": [],
   "source": [
    "import pandas as pd\n",
    "import numpy as np\n",
    "\n",
    "import matplotlib.pyplot as plt\n",
    "import seaborn as sns\n",
    "import time\n",
    "\n",
    "from sklearn.pipeline import Pipeline, FeatureUnion, make_pipeline\n",
    "from sklearn.preprocessing import PolynomialFeatures,MaxAbsScaler, MinMaxScaler, FunctionTransformer, OneHotEncoder, KBinsDiscretizer\n",
    "from sklearn.decomposition import PCA\n",
    "\n",
    "from sklearn.model_selection import cross_val_score, train_test_split as split\n",
    "\n",
    "from sklearn.neighbors import KNeighborsRegressor as KNNR\n",
    "from sklearn.tree import DecisionTreeRegressor\n",
    "from sklearn.linear_model import LinearRegression\n",
    "from sklearn.ensemble import RandomForestRegressor, RandomTreesEmbedding\n",
    "\n",
    "from sklearn.metrics import roc_curve, mean_absolute_error, make_scorer\n",
    "\n",
    "from data_preparation.preprocessing import *\n",
    "from model_training.transformation import Transformer_fillna_most_frequent,\\\n",
    "KNN_neighbors, Transformer_fillna_mean, Transformer_OneHotEncoder,\\\n",
    "Transformer_lat_long,\\\n",
    "Transformer_get_columns\n",
    "\n",
    "import warnings\n",
    "warnings.filterwarnings('ignore')"
   ]
  },
  {
   "cell_type": "markdown",
   "metadata": {},
   "source": [
    "### Helpful functions <a name = \"helpful_functions\"/>"
   ]
  },
  {
   "cell_type": "code",
   "execution_count": 2,
   "metadata": {
    "pycharm": {
     "name": "#%%\n"
    }
   },
   "outputs": [],
   "source": [
    "#Data utils functions functions\n",
    "\n",
    "# scoring functions\n",
    "def MAE(y_true, y_pred):\n",
    "    return mean_absolute_error(y_true, y_pred)\n",
    "\n",
    "def MAPE(y_true, y_pred):\n",
    "    return np.mean(np.abs(1 - y_pred / y_true))\n",
    "\n",
    "\n",
    "#functions for model fit, predict and results\n",
    "def time_convert (t):\n",
    "    h,m1=divmod(t, 3600)\n",
    "    m,s=divmod(m1, 60) \n",
    "    return h, m ,s\n",
    "\n",
    "def get_mean_cv_score(name, model, X_train, y_train, num_cv, n_verbose,scoring_param):\n",
    "    print ('Model: '+name)\n",
    "    print ('Begin CV fit')\n",
    "    t0 = time.time()\n",
    "    c_val=cross_val_score(model, X_train, y_train, \n",
    "                          cv=num_cv, verbose=n_verbose, \n",
    "                          scoring=scoring_param, n_jobs=-1)\n",
    "    t1 = time.time()\n",
    "    h, m ,s=time_convert(t1-t0)\n",
    "    print('CV ended. Elapsed time: {0:.0f} hours, {1:.0f} minutes and {2:.0f} seconds'.format(h,m,s))\n",
    "    return -(c_val.mean().round(4))\n",
    "\n",
    "\n",
    "def get_results (pipes_dict, X_train, y_train,  X_test, y_test, num_cv, \n",
    "                 n_verbose, scoring_param, df_data_and_results, df_all_results):\n",
    "    for name,model in pipes_dict.items():\n",
    "        mean_cv_score=get_mean_cv_score(name ,model, X_train, y_train, num_cv, n_verbose,scoring_param)\n",
    "        print ('Begin '+name+' model fit')\n",
    "        t1 = time.time()\n",
    "        model.fit(X_train,y_train)\n",
    "        t2 = time.time()\n",
    "        h, m ,s=time_convert(t2-t1)\n",
    "        print('Model fit ended. Elapsed time: {0:.0f} hours, {1:.0f} minutes and {2:.0f} seconds'.format(h,m,s))\n",
    "        y_pred=model.predict(X_test)\n",
    "        df_data_and_results[('Price_pred_'+name)]=y_pred\n",
    "        df_data_and_results[('Price_diff_'+name)]=y_test - y_pred\n",
    "        df_all_results=df_all_results.append ({ 'Model':name,\n",
    "                                                'CV_train_mean_MAPE_score': mean_cv_score,\n",
    "                                                'Test_MAPE_score':          round(MAE(y_test,y_pred), 4),\n",
    "                                                'Min_diff':                 df_data_and_results[('Price_diff_'+name)].min(),\n",
    "                                                'Max_diff':                 df_data_and_results[('Price_diff_'+name)].max(), \n",
    "                                                'Mean_diff':                df_data_and_results[('Price_diff_'+name)].mean(), \n",
    "                                                'Median_diff':              df_data_and_results[('Price_diff_'+name)].median(),\n",
    "                                                'STD_diff':                 df_data_and_results[('Price_diff_'+name)].std(),\n",
    "                                                '10th percentile':          df_data_and_results[('Price_diff_'+name)].quantile(q=[0.1,0.9], interpolation='linear')[0.1],\n",
    "                                                '90th percentile':          df_data_and_results[('Price_diff_'+name)].quantile(q=[0.1,0.9], interpolation='linear')[0.9]\n",
    "                                              },\n",
    "                                                ignore_index = True)\n",
    "        print('======================================================================================\\n')\n",
    "    return df_data_and_results, df_all_results\n",
    "\n",
    "#Graph generation functions:\n",
    "def get_diff_hist (pipes_dict,df_data_and_results, df_all_results):\n",
    "    for name,model in pipes_dict.items():\n",
    "        fig, ax = plt.subplots(figsize=(14,5))\n",
    "        sns.set_context(rc={\"lines.linewidth\": 3.5})#\n",
    "        sns.distplot(df_data_and_results[('Price_diff_'+name)],ax=ax,color='red')\n",
    "        plt.title(name+' Price_diff histogram')\n",
    "        ax.set_xlim(df_all_results['Min_diff'].min(),df_all_results['Max_diff'].max())\n",
    "\n",
    "def get_prediction_cluster_graph(pipes_dict, y_test, df_data_and_results):\n",
    "    for name,model in pipes_dict.items():\n",
    "        plt.figure()\n",
    "        plt.plot(y_test,np.log(df_data_and_results[('Price_pred_'+name)]),'.', label = 'Result Data')\n",
    "        plt.plot([2,9],[2,9], label = 'Ideal')\n",
    "        plt.axes().set_aspect('equal')\n",
    "        plt.legend()\n",
    "        plt.title(name+' (y_true,y_pred) vs. ideal')"
   ]
  },
  {
   "cell_type": "markdown",
   "metadata": {},
   "source": [
    "### Data exploratory <a name = \"data_exploratory\"/>"
   ]
  },
  {
   "cell_type": "code",
   "execution_count": 3,
   "metadata": {
    "pycharm": {
     "name": "#%%\n"
    }
   },
   "outputs": [],
   "source": [
    "data = pd.read_csv('data/train.csv')"
   ]
  },
  {
   "cell_type": "code",
   "execution_count": 4,
   "metadata": {
    "pycharm": {
     "name": "#%%\n"
    }
   },
   "outputs": [
    {
     "data": {
      "text/html": [
       "<div>\n",
       "<style scoped>\n",
       "    .dataframe tbody tr th:only-of-type {\n",
       "        vertical-align: middle;\n",
       "    }\n",
       "\n",
       "    .dataframe tbody tr th {\n",
       "        vertical-align: top;\n",
       "    }\n",
       "\n",
       "    .dataframe thead th {\n",
       "        text-align: right;\n",
       "    }\n",
       "</style>\n",
       "<table border=\"1\" class=\"dataframe\">\n",
       "  <thead>\n",
       "    <tr style=\"text-align: right;\">\n",
       "      <th></th>\n",
       "      <th>id</th>\n",
       "      <th>name</th>\n",
       "      <th>summary</th>\n",
       "      <th>space</th>\n",
       "      <th>description</th>\n",
       "      <th>experiences_offered</th>\n",
       "      <th>neighborhood_overview</th>\n",
       "      <th>notes</th>\n",
       "      <th>transit</th>\n",
       "      <th>access</th>\n",
       "      <th>...</th>\n",
       "      <th>square_feet</th>\n",
       "      <th>security_deposit</th>\n",
       "      <th>cleaning_fee</th>\n",
       "      <th>guests_included</th>\n",
       "      <th>extra_people</th>\n",
       "      <th>minimum_nights</th>\n",
       "      <th>cancellation_policy</th>\n",
       "      <th>require_guest_profile_picture</th>\n",
       "      <th>require_guest_phone_verification</th>\n",
       "      <th>price</th>\n",
       "    </tr>\n",
       "  </thead>\n",
       "  <tbody>\n",
       "    <tr>\n",
       "      <th>0</th>\n",
       "      <td>127860</td>\n",
       "      <td>Double bedroom in cottage Twickenham (sleeps 1-2)</td>\n",
       "      <td>One gorgeous, light-filled double bedroom (sle...</td>\n",
       "      <td>A beautiful, light-filled double bedroom is ou...</td>\n",
       "      <td>One gorgeous, light-filled double bedroom (sle...</td>\n",
       "      <td>none</td>\n",
       "      <td>Very, very safe area, great transport links an...</td>\n",
       "      <td>We have a super-gorgeous cat</td>\n",
       "      <td>Twickenham Rugby Stadium is 15 mins walk Water...</td>\n",
       "      <td>You'll have full use of the cottage, two recep...</td>\n",
       "      <td>...</td>\n",
       "      <td>NaN</td>\n",
       "      <td>300.0</td>\n",
       "      <td>10.0</td>\n",
       "      <td>1</td>\n",
       "      <td>10.0</td>\n",
       "      <td>2</td>\n",
       "      <td>strict_14_with_grace_period</td>\n",
       "      <td>f</td>\n",
       "      <td>f</td>\n",
       "      <td>1000.0</td>\n",
       "    </tr>\n",
       "    <tr>\n",
       "      <th>1</th>\n",
       "      <td>325809</td>\n",
       "      <td>Big House for Olympics sleeps 6 to8</td>\n",
       "      <td>NaN</td>\n",
       "      <td>A beautiful, modern, art-filled and clean 4 st...</td>\n",
       "      <td>A beautiful, modern, art-filled and clean 4 st...</td>\n",
       "      <td>none</td>\n",
       "      <td>NaN</td>\n",
       "      <td>NaN</td>\n",
       "      <td>NaN</td>\n",
       "      <td>NaN</td>\n",
       "      <td>...</td>\n",
       "      <td>1400.0</td>\n",
       "      <td>771.0</td>\n",
       "      <td>NaN</td>\n",
       "      <td>1</td>\n",
       "      <td>0.0</td>\n",
       "      <td>14</td>\n",
       "      <td>strict_14_with_grace_period</td>\n",
       "      <td>f</td>\n",
       "      <td>f</td>\n",
       "      <td>771.0</td>\n",
       "    </tr>\n",
       "    <tr>\n",
       "      <th>2</th>\n",
       "      <td>429045</td>\n",
       "      <td>The Old Coach House (Olympics)</td>\n",
       "      <td>NaN</td>\n",
       "      <td>Fabulous, recently refurbished original Victor...</td>\n",
       "      <td>Fabulous, recently refurbished original Victor...</td>\n",
       "      <td>none</td>\n",
       "      <td>NaN</td>\n",
       "      <td>NaN</td>\n",
       "      <td>NaN</td>\n",
       "      <td>NaN</td>\n",
       "      <td>...</td>\n",
       "      <td>1800.0</td>\n",
       "      <td>600.0</td>\n",
       "      <td>NaN</td>\n",
       "      <td>1</td>\n",
       "      <td>0.0</td>\n",
       "      <td>14</td>\n",
       "      <td>strict_14_with_grace_period</td>\n",
       "      <td>f</td>\n",
       "      <td>f</td>\n",
       "      <td>1500.0</td>\n",
       "    </tr>\n",
       "    <tr>\n",
       "      <th>3</th>\n",
       "      <td>473637</td>\n",
       "      <td>Brand New contemporary mews house</td>\n",
       "      <td>NaN</td>\n",
       "      <td>Stunning contemporary mews available for let o...</td>\n",
       "      <td>Stunning contemporary mews available for let o...</td>\n",
       "      <td>none</td>\n",
       "      <td>NaN</td>\n",
       "      <td>NaN</td>\n",
       "      <td>NaN</td>\n",
       "      <td>NaN</td>\n",
       "      <td>...</td>\n",
       "      <td>2100.0</td>\n",
       "      <td>300.0</td>\n",
       "      <td>100.0</td>\n",
       "      <td>7</td>\n",
       "      <td>100.0</td>\n",
       "      <td>14</td>\n",
       "      <td>strict_14_with_grace_period</td>\n",
       "      <td>f</td>\n",
       "      <td>f</td>\n",
       "      <td>2000.0</td>\n",
       "    </tr>\n",
       "    <tr>\n",
       "      <th>4</th>\n",
       "      <td>533943</td>\n",
       "      <td>LUXURY APT. NEAR BUCKINGHAM PALACE</td>\n",
       "      <td>“The area around Westminster Cathedral has lon...</td>\n",
       "      <td>This stunning, spacious, 4 bedroom, top floor ...</td>\n",
       "      <td>“The area around Westminster Cathedral has lon...</td>\n",
       "      <td>family</td>\n",
       "      <td>The proximity of all of London's main attracti...</td>\n",
       "      <td>NaN</td>\n",
       "      <td>Only 5 minutes walk to Victoria Station, the m...</td>\n",
       "      <td>NaN</td>\n",
       "      <td>...</td>\n",
       "      <td>2220.0</td>\n",
       "      <td>2505.0</td>\n",
       "      <td>180.0</td>\n",
       "      <td>1</td>\n",
       "      <td>0.0</td>\n",
       "      <td>14</td>\n",
       "      <td>strict_14_with_grace_period</td>\n",
       "      <td>f</td>\n",
       "      <td>t</td>\n",
       "      <td>901.0</td>\n",
       "    </tr>\n",
       "  </tbody>\n",
       "</table>\n",
       "<p>5 rows × 43 columns</p>\n",
       "</div>"
      ],
      "text/plain": [
       "       id                                               name  \\\n",
       "0  127860  Double bedroom in cottage Twickenham (sleeps 1-2)   \n",
       "1  325809                Big House for Olympics sleeps 6 to8   \n",
       "2  429045                     The Old Coach House (Olympics)   \n",
       "3  473637                 Brand New contemporary mews house    \n",
       "4  533943                 LUXURY APT. NEAR BUCKINGHAM PALACE   \n",
       "\n",
       "                                             summary  \\\n",
       "0  One gorgeous, light-filled double bedroom (sle...   \n",
       "1                                                NaN   \n",
       "2                                                NaN   \n",
       "3                                                NaN   \n",
       "4  “The area around Westminster Cathedral has lon...   \n",
       "\n",
       "                                               space  \\\n",
       "0  A beautiful, light-filled double bedroom is ou...   \n",
       "1  A beautiful, modern, art-filled and clean 4 st...   \n",
       "2  Fabulous, recently refurbished original Victor...   \n",
       "3  Stunning contemporary mews available for let o...   \n",
       "4  This stunning, spacious, 4 bedroom, top floor ...   \n",
       "\n",
       "                                         description experiences_offered  \\\n",
       "0  One gorgeous, light-filled double bedroom (sle...                none   \n",
       "1  A beautiful, modern, art-filled and clean 4 st...                none   \n",
       "2  Fabulous, recently refurbished original Victor...                none   \n",
       "3  Stunning contemporary mews available for let o...                none   \n",
       "4  “The area around Westminster Cathedral has lon...              family   \n",
       "\n",
       "                               neighborhood_overview  \\\n",
       "0  Very, very safe area, great transport links an...   \n",
       "1                                                NaN   \n",
       "2                                                NaN   \n",
       "3                                                NaN   \n",
       "4  The proximity of all of London's main attracti...   \n",
       "\n",
       "                          notes  \\\n",
       "0  We have a super-gorgeous cat   \n",
       "1                           NaN   \n",
       "2                           NaN   \n",
       "3                           NaN   \n",
       "4                           NaN   \n",
       "\n",
       "                                             transit  \\\n",
       "0  Twickenham Rugby Stadium is 15 mins walk Water...   \n",
       "1                                                NaN   \n",
       "2                                                NaN   \n",
       "3                                                NaN   \n",
       "4  Only 5 minutes walk to Victoria Station, the m...   \n",
       "\n",
       "                                              access  ... square_feet  \\\n",
       "0  You'll have full use of the cottage, two recep...  ...         NaN   \n",
       "1                                                NaN  ...      1400.0   \n",
       "2                                                NaN  ...      1800.0   \n",
       "3                                                NaN  ...      2100.0   \n",
       "4                                                NaN  ...      2220.0   \n",
       "\n",
       "  security_deposit  cleaning_fee guests_included extra_people minimum_nights  \\\n",
       "0            300.0          10.0               1         10.0              2   \n",
       "1            771.0           NaN               1          0.0             14   \n",
       "2            600.0           NaN               1          0.0             14   \n",
       "3            300.0         100.0               7        100.0             14   \n",
       "4           2505.0         180.0               1          0.0             14   \n",
       "\n",
       "           cancellation_policy require_guest_profile_picture  \\\n",
       "0  strict_14_with_grace_period                             f   \n",
       "1  strict_14_with_grace_period                             f   \n",
       "2  strict_14_with_grace_period                             f   \n",
       "3  strict_14_with_grace_period                             f   \n",
       "4  strict_14_with_grace_period                             f   \n",
       "\n",
       "  require_guest_phone_verification   price  \n",
       "0                                f  1000.0  \n",
       "1                                f   771.0  \n",
       "2                                f  1500.0  \n",
       "3                                f  2000.0  \n",
       "4                                t   901.0  \n",
       "\n",
       "[5 rows x 43 columns]"
      ]
     },
     "execution_count": 4,
     "metadata": {},
     "output_type": "execute_result"
    }
   ],
   "source": [
    "data.head()"
   ]
  },
  {
   "cell_type": "code",
   "execution_count": 5,
   "metadata": {
    "pycharm": {
     "name": "#%%\n"
    }
   },
   "outputs": [
    {
     "name": "stdout",
     "output_type": "stream",
     "text": [
      "<class 'pandas.core.frame.DataFrame'>\n",
      "RangeIndex: 51815 entries, 0 to 51814\n",
      "Data columns (total 43 columns):\n",
      " #   Column                            Non-Null Count  Dtype  \n",
      "---  ------                            --------------  -----  \n",
      " 0   id                                51815 non-null  int64  \n",
      " 1   name                              51809 non-null  object \n",
      " 2   summary                           50018 non-null  object \n",
      " 3   space                             33350 non-null  object \n",
      " 4   description                       50798 non-null  object \n",
      " 5   experiences_offered               51815 non-null  object \n",
      " 6   neighborhood_overview             30176 non-null  object \n",
      " 7   notes                             19436 non-null  object \n",
      " 8   transit                           29762 non-null  object \n",
      " 9   access                            28386 non-null  object \n",
      " 10  interaction                       27110 non-null  object \n",
      " 11  house_rules                       28071 non-null  object \n",
      " 12  host_id                           51815 non-null  int64  \n",
      " 13  host_since                        51804 non-null  object \n",
      " 14  host_about                        28153 non-null  object \n",
      " 15  host_response_time                31129 non-null  object \n",
      " 16  host_response_rate                31126 non-null  object \n",
      " 17  host_is_superhost                 51804 non-null  object \n",
      " 18  host_has_profile_pic              51804 non-null  object \n",
      " 19  host_identity_verified            51804 non-null  object \n",
      " 20  neighbourhood_cleansed            51815 non-null  object \n",
      " 21  zipcode                           50342 non-null  object \n",
      " 22  latitude                          51815 non-null  float64\n",
      " 23  longitude                         51815 non-null  float64\n",
      " 24  is_location_exact                 51815 non-null  object \n",
      " 25  property_type                     51815 non-null  object \n",
      " 26  room_type                         51815 non-null  object \n",
      " 27  accommodates                      51815 non-null  int64  \n",
      " 28  bathrooms                         51812 non-null  float64\n",
      " 29  bedrooms                          51796 non-null  float64\n",
      " 30  beds                              51743 non-null  float64\n",
      " 31  bed_type                          51815 non-null  object \n",
      " 32  amenities                         51815 non-null  object \n",
      " 33  square_feet                       15 non-null     float64\n",
      " 34  security_deposit                  33897 non-null  float64\n",
      " 35  cleaning_fee                      38364 non-null  float64\n",
      " 36  guests_included                   51815 non-null  int64  \n",
      " 37  extra_people                      51815 non-null  float64\n",
      " 38  minimum_nights                    51815 non-null  int64  \n",
      " 39  cancellation_policy               51815 non-null  object \n",
      " 40  require_guest_profile_picture     51815 non-null  object \n",
      " 41  require_guest_phone_verification  51815 non-null  object \n",
      " 42  price                             51815 non-null  float64\n",
      "dtypes: float64(10), int64(5), object(28)\n",
      "memory usage: 17.0+ MB\n"
     ]
    }
   ],
   "source": [
    "data.info()"
   ]
  },
  {
   "cell_type": "code",
   "execution_count": 6,
   "metadata": {
    "pycharm": {
     "name": "#%%\n"
    }
   },
   "outputs": [
    {
     "data": {
      "text/html": [
       "<div>\n",
       "<style scoped>\n",
       "    .dataframe tbody tr th:only-of-type {\n",
       "        vertical-align: middle;\n",
       "    }\n",
       "\n",
       "    .dataframe tbody tr th {\n",
       "        vertical-align: top;\n",
       "    }\n",
       "\n",
       "    .dataframe thead th {\n",
       "        text-align: right;\n",
       "    }\n",
       "</style>\n",
       "<table border=\"1\" class=\"dataframe\">\n",
       "  <thead>\n",
       "    <tr style=\"text-align: right;\">\n",
       "      <th></th>\n",
       "      <th>unique</th>\n",
       "    </tr>\n",
       "  </thead>\n",
       "  <tbody>\n",
       "    <tr>\n",
       "      <th>host_response_time</th>\n",
       "      <td>[nan, within an hour, within a day, within a few hours, a few days or more]</td>\n",
       "    </tr>\n",
       "    <tr>\n",
       "      <th>property_type</th>\n",
       "      <td>[House, Apartment, Loft, Townhouse, Boat, Boutique hotel, Serviced apartment, Condominium, Bed and breakfast, Hostel, Other, Cabin, Bungalow, Yurt, Tiny house, Guest suite, Guesthouse, Aparthotel, Cottage, Lighthouse, Barn, Villa, Houseboat, Hotel, Ryokan (Japan), Casa particular (Cuba), Resort, Chalet, Island, Nature lodge, Hut, Camper/RV, Earth house, Treehouse, Farm stay, Bus, Shepherd's hut (U.K., France), Tipi, Tent, Dome house]</td>\n",
       "    </tr>\n",
       "    <tr>\n",
       "      <th>bed_type</th>\n",
       "      <td>[Real Bed, Pull-out Sofa, Futon, Couch, Airbed]</td>\n",
       "    </tr>\n",
       "    <tr>\n",
       "      <th>cancellation_policy</th>\n",
       "      <td>[strict_14_with_grace_period, flexible, moderate, super_strict_30, super_strict_60, strict]</td>\n",
       "    </tr>\n",
       "    <tr>\n",
       "      <th>host_is_superhost</th>\n",
       "      <td>[f, t, nan]</td>\n",
       "    </tr>\n",
       "    <tr>\n",
       "      <th>host_identity_verified</th>\n",
       "      <td>[t, f, nan]</td>\n",
       "    </tr>\n",
       "    <tr>\n",
       "      <th>is_location_exact</th>\n",
       "      <td>[t, f]</td>\n",
       "    </tr>\n",
       "    <tr>\n",
       "      <th>require_guest_profile_picture</th>\n",
       "      <td>[f, t]</td>\n",
       "    </tr>\n",
       "    <tr>\n",
       "      <th>require_guest_phone_verification</th>\n",
       "      <td>[f, t]</td>\n",
       "    </tr>\n",
       "    <tr>\n",
       "      <th>room_type</th>\n",
       "      <td>[Private room, Entire home/apt, Shared room]</td>\n",
       "    </tr>\n",
       "  </tbody>\n",
       "</table>\n",
       "</div>"
      ],
      "text/plain": [
       "                                                                                                                                                                                                                                                                                                                                                                                                                                                                                 unique\n",
       "host_response_time                [nan, within an hour, within a day, within a few hours, a few days or more]                                                                                                                                                                                                                                                                                                                                                                          \n",
       "property_type                     [House, Apartment, Loft, Townhouse, Boat, Boutique hotel, Serviced apartment, Condominium, Bed and breakfast, Hostel, Other, Cabin, Bungalow, Yurt, Tiny house, Guest suite, Guesthouse, Aparthotel, Cottage, Lighthouse, Barn, Villa, Houseboat, Hotel, Ryokan (Japan), Casa particular (Cuba), Resort, Chalet, Island, Nature lodge, Hut, Camper/RV, Earth house, Treehouse, Farm stay, Bus, Shepherd's hut (U.K., France), Tipi, Tent, Dome house]\n",
       "bed_type                          [Real Bed, Pull-out Sofa, Futon, Couch, Airbed]                                                                                                                                                                                                                                                                                                                                                                                                      \n",
       "cancellation_policy               [strict_14_with_grace_period, flexible, moderate, super_strict_30, super_strict_60, strict]                                                                                                                                                                                                                                                                                                                                                          \n",
       "host_is_superhost                 [f, t, nan]                                                                                                                                                                                                                                                                                                                                                                                                                                          \n",
       "host_identity_verified            [t, f, nan]                                                                                                                                                                                                                                                                                                                                                                                                                                          \n",
       "is_location_exact                 [t, f]                                                                                                                                                                                                                                                                                                                                                                                                                                               \n",
       "require_guest_profile_picture     [f, t]                                                                                                                                                                                                                                                                                                                                                                                                                                               \n",
       "require_guest_phone_verification  [f, t]                                                                                                                                                                                                                                                                                                                                                                                                                                               \n",
       "room_type                         [Private room, Entire home/apt, Shared room]                                                                                                                                                                                                                                                                                                                                                                                                         "
      ]
     },
     "execution_count": 6,
     "metadata": {},
     "output_type": "execute_result"
    }
   ],
   "source": [
    "pd.set_option('display.max_colwidth', 0)\n",
    "data[categoric_cols].agg(['unique']).transpose()"
   ]
  },
  {
   "cell_type": "code",
   "execution_count": 7,
   "metadata": {
    "pycharm": {
     "name": "#%%\n"
    }
   },
   "outputs": [
    {
     "data": {
      "text/plain": [
       "Apartment                        35260\n",
       "House                            9878 \n",
       "Townhouse                        1880 \n",
       "Serviced apartment               1855 \n",
       "Condominium                      683  \n",
       "Loft                             446  \n",
       "Bed and breakfast                413  \n",
       "Guest suite                      230  \n",
       "Guesthouse                       205  \n",
       "Other                            168  \n",
       "Hostel                           156  \n",
       "Boutique hotel                   119  \n",
       "Hotel                            117  \n",
       "Bungalow                         90   \n",
       "Cottage                          60   \n",
       "Villa                            46   \n",
       "Aparthotel                       41   \n",
       "Boat                             41   \n",
       "Cabin                            19   \n",
       "Casa particular (Cuba)           17   \n",
       "Tiny house                       17   \n",
       "Camper/RV                        16   \n",
       "Houseboat                        15   \n",
       "Earth house                      8    \n",
       "Chalet                           8    \n",
       "Barn                             6    \n",
       "Farm stay                        3    \n",
       "Hut                              3    \n",
       "Treehouse                        2    \n",
       "Nature lodge                     2    \n",
       "Yurt                             2    \n",
       "Lighthouse                       1    \n",
       "Tent                             1    \n",
       "Ryokan (Japan)                   1    \n",
       "Shepherd's hut (U.K., France)    1    \n",
       "Dome house                       1    \n",
       "Island                           1    \n",
       "Resort                           1    \n",
       "Tipi                             1    \n",
       "Bus                              1    \n",
       "Name: property_type, dtype: int64"
      ]
     },
     "execution_count": 7,
     "metadata": {},
     "output_type": "execute_result"
    }
   ],
   "source": [
    "data['property_type'].value_counts()"
   ]
  },
  {
   "cell_type": "markdown",
   "metadata": {},
   "source": [
    "### Data preprocessing <a name = \"data_preprocessing\"/>\n"
   ]
  },
  {
   "cell_type": "code",
   "execution_count": 8,
   "metadata": {
    "pycharm": {
     "name": "#%%\n"
    }
   },
   "outputs": [
    {
     "data": {
      "text/html": [
       "<div>\n",
       "<style scoped>\n",
       "    .dataframe tbody tr th:only-of-type {\n",
       "        vertical-align: middle;\n",
       "    }\n",
       "\n",
       "    .dataframe tbody tr th {\n",
       "        vertical-align: top;\n",
       "    }\n",
       "\n",
       "    .dataframe thead th {\n",
       "        text-align: right;\n",
       "    }\n",
       "</style>\n",
       "<table border=\"1\" class=\"dataframe\">\n",
       "  <thead>\n",
       "    <tr style=\"text-align: right;\">\n",
       "      <th></th>\n",
       "      <th>name</th>\n",
       "      <th>summary</th>\n",
       "      <th>space</th>\n",
       "      <th>description</th>\n",
       "      <th>neighborhood_overview</th>\n",
       "      <th>notes</th>\n",
       "      <th>transit</th>\n",
       "      <th>access</th>\n",
       "      <th>house_rules</th>\n",
       "      <th>host_about</th>\n",
       "      <th>...</th>\n",
       "      <th>is_location_exact</th>\n",
       "      <th>bed_type</th>\n",
       "      <th>security_deposit</th>\n",
       "      <th>cleaning_fee</th>\n",
       "      <th>extra_people</th>\n",
       "      <th>minimum_nights</th>\n",
       "      <th>cancellation_policy</th>\n",
       "      <th>require_guest_profile_picture</th>\n",
       "      <th>require_guest_phone_verification</th>\n",
       "      <th>price</th>\n",
       "    </tr>\n",
       "  </thead>\n",
       "  <tbody>\n",
       "    <tr>\n",
       "      <th>66</th>\n",
       "      <td>True</td>\n",
       "      <td>True</td>\n",
       "      <td>False</td>\n",
       "      <td>True</td>\n",
       "      <td>False</td>\n",
       "      <td>False</td>\n",
       "      <td>False</td>\n",
       "      <td>False</td>\n",
       "      <td>False</td>\n",
       "      <td>False</td>\n",
       "      <td>...</td>\n",
       "      <td>True</td>\n",
       "      <td>Real_Bed</td>\n",
       "      <td>NaN</td>\n",
       "      <td>NaN</td>\n",
       "      <td>0.0</td>\n",
       "      <td>1</td>\n",
       "      <td>flexible</td>\n",
       "      <td>False</td>\n",
       "      <td>False</td>\n",
       "      <td>210.0</td>\n",
       "    </tr>\n",
       "    <tr>\n",
       "      <th>67</th>\n",
       "      <td>True</td>\n",
       "      <td>True</td>\n",
       "      <td>True</td>\n",
       "      <td>True</td>\n",
       "      <td>True</td>\n",
       "      <td>True</td>\n",
       "      <td>True</td>\n",
       "      <td>True</td>\n",
       "      <td>False</td>\n",
       "      <td>False</td>\n",
       "      <td>...</td>\n",
       "      <td>True</td>\n",
       "      <td>Pull-out_Sofa</td>\n",
       "      <td>3884.0</td>\n",
       "      <td>5.0</td>\n",
       "      <td>8.0</td>\n",
       "      <td>1</td>\n",
       "      <td>strict_14_with_grace_period</td>\n",
       "      <td>False</td>\n",
       "      <td>False</td>\n",
       "      <td>35.0</td>\n",
       "    </tr>\n",
       "    <tr>\n",
       "      <th>68</th>\n",
       "      <td>True</td>\n",
       "      <td>True</td>\n",
       "      <td>False</td>\n",
       "      <td>True</td>\n",
       "      <td>False</td>\n",
       "      <td>False</td>\n",
       "      <td>False</td>\n",
       "      <td>False</td>\n",
       "      <td>False</td>\n",
       "      <td>False</td>\n",
       "      <td>...</td>\n",
       "      <td>True</td>\n",
       "      <td>Real_Bed</td>\n",
       "      <td>NaN</td>\n",
       "      <td>10.0</td>\n",
       "      <td>0.0</td>\n",
       "      <td>3</td>\n",
       "      <td>flexible</td>\n",
       "      <td>False</td>\n",
       "      <td>False</td>\n",
       "      <td>50.0</td>\n",
       "    </tr>\n",
       "    <tr>\n",
       "      <th>69</th>\n",
       "      <td>True</td>\n",
       "      <td>True</td>\n",
       "      <td>True</td>\n",
       "      <td>True</td>\n",
       "      <td>True</td>\n",
       "      <td>True</td>\n",
       "      <td>True</td>\n",
       "      <td>True</td>\n",
       "      <td>False</td>\n",
       "      <td>True</td>\n",
       "      <td>...</td>\n",
       "      <td>True</td>\n",
       "      <td>Real_Bed</td>\n",
       "      <td>NaN</td>\n",
       "      <td>12.0</td>\n",
       "      <td>10.0</td>\n",
       "      <td>1</td>\n",
       "      <td>strict_14_with_grace_period</td>\n",
       "      <td>False</td>\n",
       "      <td>False</td>\n",
       "      <td>45.0</td>\n",
       "    </tr>\n",
       "    <tr>\n",
       "      <th>70</th>\n",
       "      <td>True</td>\n",
       "      <td>True</td>\n",
       "      <td>True</td>\n",
       "      <td>True</td>\n",
       "      <td>True</td>\n",
       "      <td>True</td>\n",
       "      <td>False</td>\n",
       "      <td>True</td>\n",
       "      <td>True</td>\n",
       "      <td>False</td>\n",
       "      <td>...</td>\n",
       "      <td>False</td>\n",
       "      <td>Real_Bed</td>\n",
       "      <td>NaN</td>\n",
       "      <td>NaN</td>\n",
       "      <td>0.0</td>\n",
       "      <td>4</td>\n",
       "      <td>moderate</td>\n",
       "      <td>False</td>\n",
       "      <td>False</td>\n",
       "      <td>46.0</td>\n",
       "    </tr>\n",
       "  </tbody>\n",
       "</table>\n",
       "<p>5 rows × 27 columns</p>\n",
       "</div>"
      ],
      "text/plain": [
       "    name  summary  space  description  neighborhood_overview  notes  transit  \\\n",
       "66  True  True     False  True         False                  False  False     \n",
       "67  True  True     True   True         True                   True   True      \n",
       "68  True  True     False  True         False                  False  False     \n",
       "69  True  True     True   True         True                   True   True      \n",
       "70  True  True     True   True         True                   True   False     \n",
       "\n",
       "    access  house_rules  host_about  ... is_location_exact       bed_type  \\\n",
       "66  False   False        False       ...  True              Real_Bed        \n",
       "67  True    False        False       ...  True              Pull-out_Sofa   \n",
       "68  False   False        False       ...  True              Real_Bed        \n",
       "69  True    False        True        ...  True              Real_Bed        \n",
       "70  True    True         False       ...  False             Real_Bed        \n",
       "\n",
       "    security_deposit  cleaning_fee extra_people  minimum_nights  \\\n",
       "66 NaN               NaN            0.0          1                \n",
       "67  3884.0            5.0           8.0          1                \n",
       "68 NaN                10.0          0.0          3                \n",
       "69 NaN                12.0          10.0         1                \n",
       "70 NaN               NaN            0.0          4                \n",
       "\n",
       "            cancellation_policy  require_guest_profile_picture  \\\n",
       "66  flexible                     False                           \n",
       "67  strict_14_with_grace_period  False                           \n",
       "68  flexible                     False                           \n",
       "69  strict_14_with_grace_period  False                           \n",
       "70  moderate                     False                           \n",
       "\n",
       "   require_guest_phone_verification  price  \n",
       "66  False                            210.0  \n",
       "67  False                            35.0   \n",
       "68  False                            50.0   \n",
       "69  False                            45.0   \n",
       "70  False                            46.0   \n",
       "\n",
       "[5 rows x 27 columns]"
      ]
     },
     "execution_count": 8,
     "metadata": {},
     "output_type": "execute_result"
    }
   ],
   "source": [
    "data_clean_all=data[(data['price'] > 20) & (data['price'] < 500)].copy()\n",
    "data_clean_all=preprocessing_1(data_clean_all)\n",
    "data_clean_all.head()"
   ]
  },
  {
   "cell_type": "code",
   "execution_count": 9,
   "metadata": {
    "pycharm": {
     "name": "#%%\n"
    }
   },
   "outputs": [
    {
     "name": "stdout",
     "output_type": "stream",
     "text": [
      "<class 'pandas.core.frame.DataFrame'>\n",
      "Int64Index: 49788 entries, 66 to 51814\n",
      "Data columns (total 27 columns):\n",
      " #   Column                            Non-Null Count  Dtype  \n",
      "---  ------                            --------------  -----  \n",
      " 0   name                              49788 non-null  bool   \n",
      " 1   summary                           49788 non-null  bool   \n",
      " 2   space                             49788 non-null  bool   \n",
      " 3   description                       49788 non-null  bool   \n",
      " 4   neighborhood_overview             49788 non-null  bool   \n",
      " 5   notes                             49788 non-null  bool   \n",
      " 6   transit                           49788 non-null  bool   \n",
      " 7   access                            49788 non-null  bool   \n",
      " 8   house_rules                       49788 non-null  bool   \n",
      " 9   host_about                        49788 non-null  bool   \n",
      " 10  host_response_time                29891 non-null  object \n",
      " 11  host_response_rate                29888 non-null  float64\n",
      " 12  host_is_superhost                 49788 non-null  bool   \n",
      " 13  host_identity_verified            49788 non-null  bool   \n",
      " 14  neighbourhood_cleansed            49788 non-null  object \n",
      " 15  latitude                          49788 non-null  float64\n",
      " 16  longitude                         49788 non-null  float64\n",
      " 17  is_location_exact                 49788 non-null  bool   \n",
      " 18  bed_type                          49788 non-null  object \n",
      " 19  security_deposit                  32658 non-null  float64\n",
      " 20  cleaning_fee                      37019 non-null  float64\n",
      " 21  extra_people                      49788 non-null  float64\n",
      " 22  minimum_nights                    49788 non-null  int64  \n",
      " 23  cancellation_policy               49788 non-null  object \n",
      " 24  require_guest_profile_picture     49788 non-null  bool   \n",
      " 25  require_guest_phone_verification  49788 non-null  bool   \n",
      " 26  price                             49788 non-null  float64\n",
      "dtypes: bool(15), float64(7), int64(1), object(4)\n",
      "memory usage: 5.7+ MB\n"
     ]
    }
   ],
   "source": [
    "data_clean_all.info()"
   ]
  },
  {
   "cell_type": "code",
   "execution_count": 10,
   "metadata": {
    "pycharm": {
     "name": "#%%\n"
    }
   },
   "outputs": [
    {
     "data": {
      "text/plain": [
       "dtype('O')"
      ]
     },
     "execution_count": 10,
     "metadata": {},
     "output_type": "execute_result"
    }
   ],
   "source": [
    "data_clean_all['host_response_time'].dtype"
   ]
  },
  {
   "cell_type": "code",
   "execution_count": 11,
   "metadata": {
    "pycharm": {
     "name": "#%%\n"
    }
   },
   "outputs": [
    {
     "data": {
      "text/plain": [
       "within an hour        20269\n",
       "within a few hours    5143 \n",
       "within a day          3576 \n",
       "a few days or more    903  \n",
       "Name: host_response_time, dtype: int64"
      ]
     },
     "execution_count": 11,
     "metadata": {},
     "output_type": "execute_result"
    }
   ],
   "source": [
    "data_clean_all['host_response_time'].value_counts()"
   ]
  },
  {
   "cell_type": "code",
   "execution_count": 12,
   "metadata": {
    "pycharm": {
     "name": "#%%\n"
    }
   },
   "outputs": [
    {
     "data": {
      "text/plain": [
       "0"
      ]
     },
     "execution_count": 12,
     "metadata": {},
     "output_type": "execute_result"
    }
   ],
   "source": [
    "data_clean_all['name'].isna().sum()"
   ]
  },
  {
   "cell_type": "code",
   "execution_count": 13,
   "metadata": {
    "pycharm": {
     "name": "#%%\n"
    }
   },
   "outputs": [],
   "source": [
    "data_clean_all['host_response_time'].fillna('None', inplace = True)\n",
    "# for c in long_text_cols:\n",
    "#     data_clean_all[c].fillna('None', inplace = True)"
   ]
  },
  {
   "cell_type": "markdown",
   "metadata": {},
   "source": [
    "### Regression models <a name = 'regression_models'/>"
   ]
  },
  {
   "cell_type": "markdown",
   "metadata": {},
   "source": [
    "We decided to use 2 regression models: Linear Regression (LR) and Random Forest regressor (RF), for predicting price. \n",
    "In addition, KNN regressor was used to create a price grouping feature based on lat-long info.\n",
    "\n",
    "LR and RF ran with 2 types of transformers, with and without polynomioal features"
   ]
  },
  {
   "cell_type": "code",
   "execution_count": 14,
   "metadata": {
    "pycharm": {
     "name": "#%%\n"
    }
   },
   "outputs": [],
   "source": [
    "#scoring functions\n",
    "MAE_scorer = make_scorer(MAE, greater_is_better=False)\n",
    "MAPE_scorer = make_scorer(MAPE, greater_is_better=False)"
   ]
  },
  {
   "cell_type": "code",
   "execution_count": 15,
   "metadata": {
    "pycharm": {
     "name": "#%%\n"
    }
   },
   "outputs": [],
   "source": [
    "RF_n_estimators=50\n",
    "RF_min_samples_split=50\n",
    "num_cv=5\n",
    "n_verbose = 3\n",
    "scoring_param=MAE_scorer\n",
    "\n",
    "PCA_features=PCA()\n",
    "lin_regressor= LinearRegression(n_jobs = -1)\n",
    "RF_regressor = RandomForestRegressor(n_estimators=RF_n_estimators, \n",
    "                                     min_samples_split=RF_min_samples_split,\n",
    "                                     n_jobs = -1\n",
    "                                    )\n",
    "KNN_Reg = KNNR(n_neighbors=KNN_neighbors)"
   ]
  },
  {
   "cell_type": "code",
   "execution_count": 16,
   "metadata": {
    "pycharm": {
     "name": "#%%\n"
    }
   },
   "outputs": [],
   "source": [
    "FeatureUnionTransformer =\\\n",
    "FeatureUnion([('FTfillna_frequent',   Transformer_fillna_most_frequent),\n",
    "              ('FTfillna_mean',       Transformer_fillna_mean),\n",
    "              ('FTget_OneHotEncoder', Transformer_OneHotEncoder),\n",
    "              # ('FTamenities',         Transformer_amenities),\n",
    "              # ('FT_sum_amenities',    Transformer_sum_amenities),\n",
    "#               ('FTtext',              Transformer_text),\n",
    "#               ('FT_sum_text',         Transformer_sum_text),\n",
    "              ('FT_lat_long',         Transformer_lat_long),\n",
    "              ('FT_get_columns',      Transformer_get_columns)\n",
    "             ], n_jobs = -1)"
   ]
  },
  {
   "cell_type": "code",
   "execution_count": 17,
   "metadata": {
    "pycharm": {
     "name": "#%%\n"
    }
   },
   "outputs": [],
   "source": [
    "#Transformer with polynomial features\n",
    "Full_Transformer_poly =\\\n",
    "Pipeline([('Feature_Engineering', FeatureUnionTransformer),\n",
    "          ('Polynomial_Transformer', \n",
    "           PolynomialFeatures(degree=2, interaction_only=True)),\n",
    "          ('Min_Max_Transformer', MaxAbsScaler())\n",
    "         ])\n",
    "\n",
    "#Transformer without polynomial features\n",
    "Full_Transformer =\\\n",
    "Pipeline([('Feature_Engineering', FeatureUnionTransformer),\n",
    "          ('Min_Max_Transformer', MaxAbsScaler())\n",
    "         ])"
   ]
  },
  {
   "cell_type": "markdown",
   "metadata": {},
   "source": [
    "Regression model pipelines:"
   ]
  },
  {
   "cell_type": "code",
   "execution_count": 18,
   "metadata": {
    "pycharm": {
     "name": "#%%\n"
    }
   },
   "outputs": [],
   "source": [
    "RF_pipe=\\\n",
    "Pipeline([('Feature_transformer', Full_Transformer),\n",
    "          ('RFE_regressor', RF_regressor)\n",
    "         ])"
   ]
  },
  {
   "cell_type": "markdown",
   "metadata": {},
   "source": [
    "Split the data to train and test:"
   ]
  },
  {
   "cell_type": "code",
   "execution_count": 19,
   "metadata": {
    "pycharm": {
     "name": "#%%\n"
    }
   },
   "outputs": [],
   "source": [
    "X_train_all, X_test_all, y_train_all, y_test_all =\\\n",
    "split(data_clean_all.drop(axis=1, columns=['price']), \n",
    "      data_clean_all['price'], \n",
    "      test_size =0.3, random_state=123)"
   ]
  },
  {
   "cell_type": "markdown",
   "metadata": {},
   "source": [
    "Run all the regression models"
   ]
  },
  {
   "cell_type": "code",
   "execution_count": 20,
   "metadata": {
    "pycharm": {
     "name": "#%%\n"
    }
   },
   "outputs": [],
   "source": [
    "#all regressors\n",
    "pipes_dict_all = {\n",
    "     'RF':RF_pipe\n",
    "}\n",
    "\n",
    "#reset DF to collect results\n",
    "df_all_results_all=pd.DataFrame(\n",
    "    columns=['Model','CV_train_mean_MAPE_score','Test_MAPE_score',\n",
    "             'Min_diff','Max_diff','Mean_diff','Median_diff',\n",
    "             'STD_diff','10th percentile','90th percentile'])\n",
    "\n",
    "df_data_and_results_all=X_test_all.copy()\n",
    "df_data_and_results_all['Price_true']=y_test_all"
   ]
  },
  {
   "cell_type": "code",
   "execution_count": 21,
   "metadata": {
    "pycharm": {
     "name": "#%%\n"
    }
   },
   "outputs": [
    {
     "name": "stdout",
     "output_type": "stream",
     "text": [
      "Model: RF\n",
      "Begin CV fit\n"
     ]
    },
    {
     "name": "stderr",
     "output_type": "stream",
     "text": [
      "[Parallel(n_jobs=-1)]: Using backend LokyBackend with 12 concurrent workers.\n",
      "[Parallel(n_jobs=-1)]: Done   2 out of   5 | elapsed:   26.6s remaining:   39.9s\n",
      "[Parallel(n_jobs=-1)]: Done   5 out of   5 | elapsed:   26.7s finished\n"
     ]
    },
    {
     "name": "stdout",
     "output_type": "stream",
     "text": [
      "CV ended. Elapsed time: 0 hours, 0 minutes and 27 seconds\n",
      "Begin RF model fit\n",
      "Model fit ended. Elapsed time: 0 hours, 0 minutes and 8 seconds\n",
      "======================================================================================\n",
      "\n"
     ]
    }
   ],
   "source": [
    "#Run models\n",
    "df_data_and_results_all, df_all_results_all =\\\n",
    "get_results(pipes_dict_all, X_train_all, y_train_all, X_test_all, \n",
    "            y_test_all, num_cv, n_verbose, scoring_param,\n",
    "            df_data_and_results_all, df_all_results_all)"
   ]
  },
  {
   "cell_type": "code",
   "execution_count": 22,
   "metadata": {
    "pycharm": {
     "name": "#%%\n"
    }
   },
   "outputs": [
    {
     "data": {
      "text/html": [
       "<div>\n",
       "<style scoped>\n",
       "    .dataframe tbody tr th:only-of-type {\n",
       "        vertical-align: middle;\n",
       "    }\n",
       "\n",
       "    .dataframe tbody tr th {\n",
       "        vertical-align: top;\n",
       "    }\n",
       "\n",
       "    .dataframe thead th {\n",
       "        text-align: right;\n",
       "    }\n",
       "</style>\n",
       "<table border=\"1\" class=\"dataframe\">\n",
       "  <thead>\n",
       "    <tr style=\"text-align: right;\">\n",
       "      <th></th>\n",
       "      <th>Model</th>\n",
       "      <th>CV_train_mean_MAPE_score</th>\n",
       "      <th>Test_MAPE_score</th>\n",
       "      <th>Min_diff</th>\n",
       "      <th>Max_diff</th>\n",
       "      <th>Mean_diff</th>\n",
       "      <th>Median_diff</th>\n",
       "      <th>STD_diff</th>\n",
       "      <th>10th percentile</th>\n",
       "      <th>90th percentile</th>\n",
       "    </tr>\n",
       "  </thead>\n",
       "  <tbody>\n",
       "    <tr>\n",
       "      <th>0</th>\n",
       "      <td>RF</td>\n",
       "      <td>35.9745</td>\n",
       "      <td>36.2569</td>\n",
       "      <td>-231.260099</td>\n",
       "      <td>406.186696</td>\n",
       "      <td>0.845261</td>\n",
       "      <td>-8.804124</td>\n",
       "      <td>53.960446</td>\n",
       "      <td>-48.648534</td>\n",
       "      <td>61.090832</td>\n",
       "    </tr>\n",
       "  </tbody>\n",
       "</table>\n",
       "</div>"
      ],
      "text/plain": [
       "  Model  CV_train_mean_MAPE_score  Test_MAPE_score    Min_diff    Max_diff  \\\n",
       "0  RF    35.9745                   36.2569         -231.260099  406.186696   \n",
       "\n",
       "   Mean_diff  Median_diff   STD_diff  10th percentile  90th percentile  \n",
       "0  0.845261  -8.804124     53.960446 -48.648534        61.090832        "
      ]
     },
     "execution_count": 22,
     "metadata": {},
     "output_type": "execute_result"
    }
   ],
   "source": [
    "df_all_results_all"
   ]
  },
  {
   "cell_type": "code",
   "execution_count": 34,
   "metadata": {
    "pycharm": {
     "name": "#%%\n"
    }
   },
   "outputs": [],
   "source": [
    "### Saving model\n",
    "\n",
    "import dill\n",
    "import os"
   ]
  },
  {
   "cell_type": "code",
   "execution_count": 35,
   "metadata": {
    "pycharm": {
     "name": "#%%\n"
    }
   },
   "outputs": [],
   "source": [
    "with open(os.path.join(os.getcwd(),'pipeline.pkl'), 'wb') as file:\n",
    "    dill.dump(RF_pipe, file)"
   ]
  },
  {
   "cell_type": "code",
   "execution_count": 23,
   "metadata": {
    "pycharm": {
     "name": "#%%\n"
    }
   },
   "outputs": [
    {
     "name": "stdout",
     "output_type": "stream",
     "text": [
      "Feature ranking:\n",
      "[17 67 16 69 68  2 15  6 32 14 27 12 28 11 13 23  0  7 10 26 31 24  4 33\n",
      " 39 61  9 29 55 37 63  1 45 53 40  8 66 54 60 57 58 52 46 65 42 51 35 44\n",
      " 47 48 59 30 20 56  3 64 38 50 41 34 62  5 43 36 22 21 49 19 18 25]\n",
      "1. feature 17 (0.511499)\n",
      "2. feature 67 (0.229507)\n",
      "3. feature 16 (0.055983)\n",
      "4. feature 69 (0.043780)\n",
      "5. feature 68 (0.036442)\n",
      "6. feature 2 (0.022251)\n",
      "7. feature 15 (0.011655)\n",
      "8. feature 6 (0.008595)\n",
      "9. feature 32 (0.005115)\n",
      "10. feature 14 (0.004434)\n",
      "11. feature 27 (0.004247)\n",
      "12. feature 12 (0.004171)\n",
      "13. feature 28 (0.003776)\n",
      "14. feature 11 (0.003773)\n",
      "15. feature 13 (0.003506)\n",
      "16. feature 23 (0.003381)\n",
      "17. feature 0 (0.003010)\n",
      "18. feature 7 (0.002835)\n",
      "19. feature 10 (0.002783)\n",
      "20. feature 26 (0.002676)\n",
      "21. feature 31 (0.002427)\n",
      "22. feature 24 (0.002356)\n",
      "23. feature 4 (0.002286)\n",
      "24. feature 33 (0.001805)\n",
      "25. feature 39 (0.001794)\n",
      "26. feature 61 (0.001706)\n",
      "27. feature 9 (0.001634)\n",
      "28. feature 29 (0.001373)\n",
      "29. feature 55 (0.001266)\n",
      "30. feature 37 (0.001166)\n",
      "31. feature 63 (0.001118)\n",
      "32. feature 1 (0.001072)\n",
      "33. feature 45 (0.001069)\n",
      "34. feature 53 (0.001060)\n",
      "35. feature 40 (0.000982)\n",
      "36. feature 8 (0.000872)\n",
      "37. feature 66 (0.000870)\n",
      "38. feature 54 (0.000864)\n",
      "39. feature 60 (0.000846)\n",
      "40. feature 57 (0.000845)\n",
      "41. feature 58 (0.000793)\n",
      "42. feature 52 (0.000713)\n",
      "43. feature 46 (0.000679)\n",
      "44. feature 65 (0.000672)\n",
      "45. feature 42 (0.000647)\n",
      "46. feature 51 (0.000624)\n",
      "47. feature 35 (0.000582)\n",
      "48. feature 44 (0.000541)\n",
      "49. feature 47 (0.000505)\n",
      "50. feature 48 (0.000466)\n",
      "51. feature 59 (0.000441)\n",
      "52. feature 30 (0.000420)\n",
      "53. feature 20 (0.000373)\n",
      "54. feature 56 (0.000349)\n",
      "55. feature 3 (0.000338)\n",
      "56. feature 64 (0.000273)\n",
      "57. feature 38 (0.000116)\n",
      "58. feature 50 (0.000115)\n",
      "59. feature 41 (0.000113)\n",
      "60. feature 34 (0.000107)\n",
      "61. feature 62 (0.000086)\n",
      "62. feature 5 (0.000064)\n",
      "63. feature 43 (0.000053)\n",
      "64. feature 36 (0.000034)\n",
      "65. feature 22 (0.000023)\n",
      "66. feature 21 (0.000023)\n",
      "67. feature 49 (0.000009)\n",
      "68. feature 19 (0.000007)\n",
      "69. feature 18 (0.000005)\n",
      "70. feature 25 (0.000000)\n"
     ]
    }
   ],
   "source": [
    "forest = RF_pipe['RFE_regressor']\n",
    "importances = forest.feature_importances_\n",
    "std = np.std([tree.feature_importances_ for tree in forest.estimators_],\n",
    "             axis=0)\n",
    "indices = np.argsort(importances)[::-1]\n",
    "\n",
    "# Print the feature ranking\n",
    "print(\"Feature ranking:\")\n",
    "print(indices)\n",
    "\n",
    "for f in range(indices.shape[0]):\n",
    "    print(\"%d. feature %d (%f)\" % (f + 1, indices[f], importances[indices[f]]))\n",
    "\n",
    "# # Plot the impurity-based feature importances of the forest\n",
    "# plt.figure()\n",
    "# plt.title(\"Feature importances\")\n",
    "# plt.bar(range(X_train_all.shape[1]), importances[indices],\n",
    "#         color=\"r\", yerr=std[indices], align=\"center\")\n",
    "# plt.xticks(range(X_train_all.shape[1]), indices)\n",
    "# plt.xlim([-1, X_train_all.shape[1]])\n",
    "# plt.show()"
   ]
  },
  {
   "cell_type": "code",
   "execution_count": 33,
   "metadata": {
    "pycharm": {
     "name": "#%%\n"
    }
   },
   "outputs": [
    {
     "data": {
      "text/plain": [
       "strict_14_with_grace_period    20796\n",
       "flexible                       16772\n",
       "moderate                       11697\n",
       "super_strict_30                455  \n",
       "super_strict_60                67   \n",
       "strict                         1    \n",
       "Name: cancellation_policy, dtype: int64"
      ]
     },
     "execution_count": 33,
     "metadata": {},
     "output_type": "execute_result"
    }
   ],
   "source": [
    "data_clean_all['cancellation_policy'].value_counts()"
   ]
  },
  {
   "cell_type": "code",
   "execution_count": null,
   "metadata": {
    "pycharm": {
     "name": "#%%\n"
    }
   },
   "outputs": [],
   "source": []
  }
 ],
 "metadata": {
  "kernelspec": {
   "display_name": "Python 3",
   "language": "python",
   "name": "python3"
  },
  "language_info": {
   "codemirror_mode": {
    "name": "ipython",
    "version": 3
   },
   "file_extension": ".py",
   "mimetype": "text/x-python",
   "name": "python",
   "nbconvert_exporter": "python",
   "pygments_lexer": "ipython3",
   "version": "3.8.5"
  }
 },
 "nbformat": 4,
 "nbformat_minor": 4
}
