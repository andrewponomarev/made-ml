{
 "cells": [
  {
   "cell_type": "code",
   "execution_count": 1,
   "metadata": {},
   "outputs": [
    {
     "name": "stderr",
     "output_type": "stream",
     "text": [
      "[nltk_data] Downloading package wordnet to\n",
      "[nltk_data]     /Users/ponomarevandrew/nltk_data...\n",
      "[nltk_data]   Unzipping corpora/wordnet.zip.\n"
     ]
    }
   ],
   "source": [
    "import pandas as pd\n",
    "import re\n",
    "import numpy as np\n",
    "import matplotlib.pyplot as plt\n",
    "from nltk.corpus import stopwords\n",
    "from nltk.stem import PorterStemmer\n",
    "from sklearn.feature_extraction.text import TfidfVectorizer, CountVectorizer\n",
    "from sklearn.pipeline import Pipeline\n",
    "from sklearn.metrics import mean_squared_error\n",
    "from sklearn.model_selection import train_test_split, cross_val_score\n",
    "from sklearn.feature_selection import SelectKBest, chi2\n",
    "from sklearn.linear_model import LinearRegression, LogisticRegressionCV\n",
    "from sklearn.ensemble import RandomForestRegressor\n",
    "from sklearn.preprocessing import LabelEncoder, OneHotEncoder, StandardScaler\n",
    "from sklearn.model_selection import cross_val_score\n",
    "from sklearn.svm import SVR\n",
    "from nltk.corpus import wordnet\n",
    "from datetime import datetime, date\n",
    "import nltk\n",
    "nltk.download('wordnet')\n",
    "from nltk.stem import WordNetLemmatizer\n",
    "%matplotlib inline"
   ]
  },
  {
   "cell_type": "code",
   "execution_count": 2,
   "metadata": {},
   "outputs": [
    {
     "data": {
      "text/plain": [
       "(51815, 43)"
      ]
     },
     "execution_count": 2,
     "metadata": {},
     "output_type": "execute_result"
    }
   ],
   "source": [
    "train = pd.read_csv('data/train.csv')\n",
    "test = pd.read_csv('data/test.csv')\n",
    "train.shape"
   ]
  },
  {
   "cell_type": "code",
   "execution_count": 3,
   "metadata": {},
   "outputs": [],
   "source": [
    "train_X, valid_X = train_test_split(train, test_size=0.3, random_state=42)"
   ]
  },
  {
   "cell_type": "code",
   "execution_count": 4,
   "metadata": {},
   "outputs": [],
   "source": [
    "long_text_cols = ['name', 'summary', 'space', 'description', 'neighborhood_overview', 'notes', 'transit',\n",
    "                 'access', 'interaction', 'house_rules', 'host_about', 'amenities']\n",
    "categoric_cols = ['host_response_time', 'property_type', 'bed_type', 'cancellation_policy',\n",
    "                  'host_is_superhost', 'host_has_profile_pic', 'host_identity_verified',\n",
    "              'is_location_exact','require_guest_profile_picture', 'require_guest_phone_verification', 'room_type']\n",
    "number_cols = ['latitude', 'longitude', 'accommodates', 'bathrooms',\n",
    "              'bedrooms', 'beds', 'guests_included', 'extra_people',\n",
    "              'minimum_nights']\n",
    "special_cols = ['host_since', 'place_price', 'security_deposit', 'cleaning_fee']"
   ]
  },
  {
   "cell_type": "code",
   "execution_count": 5,
   "metadata": {},
   "outputs": [],
   "source": [
    "agg_place = train_X.groupby('neighbourhood_cleansed')['price'].mean().reset_index()\n",
    "agg_place.rename({'price': 'place_price'}, axis=1, inplace=True)"
   ]
  },
  {
   "cell_type": "code",
   "execution_count": 6,
   "metadata": {},
   "outputs": [],
   "source": [
    "num_col_medians = dict()\n",
    "for col in number_cols:\n",
    "    num_col_medians[col] = train[col].median()"
   ]
  },
  {
   "cell_type": "code",
   "execution_count": 7,
   "metadata": {},
   "outputs": [],
   "source": [
    "encoder = OneHotEncoder(handle_unknown='ignore')\n",
    "for col in categoric_cols:\n",
    "    train[col].fillna('None', inplace=True)\n",
    "encoder.fit(train[categoric_cols]);"
   ]
  },
  {
   "cell_type": "code",
   "execution_count": 8,
   "metadata": {},
   "outputs": [],
   "source": [
    "def features_transform(df):\n",
    "    new_df = df.copy()\n",
    "    new_df.host_since.fillna('2018-01-01', inplace=True)\n",
    "    new_df['host_since'] = new_df.host_since.apply(lambda s: (date.today() - datetime.strptime(s, '%Y-%m-%d').date()).days // 30)\n",
    "    new_df = new_df.merge(agg_place, how='left', on='neighbourhood_cleansed')\n",
    "    new_df.place_price.fillna(115, inplace=True)\n",
    "    new_df.security_deposit.fillna(0, inplace=True)\n",
    "    new_df.cleaning_fee.fillna(0, inplace=True)\n",
    "    new_df.drop(['experiences_offered', 'host_id', 'host_response_rate', 'neighbourhood_cleansed',\n",
    "               'zipcode', 'square_feet'], axis=1, inplace=True)\n",
    "    for col in number_cols:\n",
    "        new_df[col].fillna(num_col_medians[col], inplace=True)\n",
    "    for col in categoric_cols:\n",
    "        new_df[col].fillna('None', inplace=True)\n",
    "    df_dumm = pd.DataFrame(encoder.transform(new_df[categoric_cols]).toarray(), columns=encoder.get_feature_names())\n",
    "    new_df = pd.concat([new_df, df_dumm], axis=1)\n",
    "    return new_df"
   ]
  },
  {
   "cell_type": "code",
   "execution_count": 9,
   "metadata": {},
   "outputs": [],
   "source": [
    "X_train_num = features_transform(train_X).drop(long_text_cols + categoric_cols + ['price'], axis=1)\n",
    "X_valid_num = features_transform(train_X).drop(long_text_cols + categoric_cols + ['price'], axis=1)"
   ]
  },
  {
   "cell_type": "code",
   "execution_count": 10,
   "metadata": {},
   "outputs": [],
   "source": [
    "X_test_num = features_transform(test).drop(long_text_cols + categoric_cols, axis=1)\n"
   ]
  },
  {
   "cell_type": "code",
   "execution_count": 11,
   "metadata": {},
   "outputs": [],
   "source": [
    "pipeline = Pipeline([('liner', StandardScaler()),\n",
    "                     ('clf', LinearRegression())])\n",
    "forest = RandomForestRegressor(n_estimators=50)"
   ]
  },
  {
   "cell_type": "code",
   "execution_count": 12,
   "metadata": {},
   "outputs": [],
   "source": [
    "cvs = cross_val_score(forest, X_train_num, train_X.price, cv=3, scoring='neg_mean_squared_error')"
   ]
  },
  {
   "cell_type": "code",
   "execution_count": 13,
   "metadata": {},
   "outputs": [
    {
     "data": {
      "text/plain": [
       "RandomForestRegressor(n_estimators=50)"
      ]
     },
     "execution_count": 13,
     "metadata": {},
     "output_type": "execute_result"
    }
   ],
   "source": [
    "forest.fit(X_train_num, train_X.price)\n"
   ]
  },
  {
   "cell_type": "code",
   "execution_count": 15,
   "metadata": {},
   "outputs": [],
   "source": [
    "X_test_num['price'] = forest.predict(X_test_num)"
   ]
  },
  {
   "cell_type": "code",
   "execution_count": 16,
   "metadata": {},
   "outputs": [],
   "source": [
    "X_test_num[['id', 'price']].to_csv('answer_1.csv', index=False)\n"
   ]
  },
  {
   "cell_type": "code",
   "execution_count": null,
   "metadata": {},
   "outputs": [],
   "source": []
  }
 ],
 "metadata": {
  "kernelspec": {
   "display_name": "Python 3",
   "language": "python",
   "name": "python3"
  },
  "language_info": {
   "codemirror_mode": {
    "name": "ipython",
    "version": 3
   },
   "file_extension": ".py",
   "mimetype": "text/x-python",
   "name": "python",
   "nbconvert_exporter": "python",
   "pygments_lexer": "ipython3",
   "version": "3.8.3"
  }
 },
 "nbformat": 4,
 "nbformat_minor": 4
}
