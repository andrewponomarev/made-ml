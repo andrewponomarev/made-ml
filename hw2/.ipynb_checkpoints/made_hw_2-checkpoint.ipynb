{
 "cells": [
  {
   "cell_type": "markdown",
   "metadata": {},
   "source": [
    "# MADE HW-2\n",
    "## What genres has a movie with a provided dialogue?\n",
    "[Kaggle competition](https://www.kaggle.com/c/made-hw-2/data)\n"
   ]
  },
  {
   "cell_type": "markdown",
   "metadata": {},
   "source": [
    "### Outline <a name = 'outline'></a>\n",
    "* [Data reading](#data) \n",
    "* Next"
   ]
  },
  {
   "cell_type": "code",
   "execution_count": 94,
   "metadata": {},
   "outputs": [],
   "source": [
    "import numpy as np\n",
    "import pandas as pd\n",
    "from sklearn.feature_extraction.text import CountVectorizer\n",
    "from sklearn.multiclass import OneVsRestClassifier\n",
    "from sklearn.linear_model import LogisticRegression\n",
    "from sklearn import pipeline, model_selection, preprocessing, metrics"
   ]
  },
  {
   "cell_type": "markdown",
   "metadata": {},
   "source": [
    "### Data Reading <a name = 'data'></a>"
   ]
  },
  {
   "cell_type": "code",
   "execution_count": 66,
   "metadata": {},
   "outputs": [],
   "source": [
    "train = pd.read_csv(\"train.csv\")\n",
    "test = pd.read_csv(\"test.csv\")"
   ]
  },
  {
   "cell_type": "code",
   "execution_count": 96,
   "metadata": {},
   "outputs": [
    {
     "data": {
      "text/html": [
       "<div>\n",
       "<style scoped>\n",
       "    .dataframe tbody tr th:only-of-type {\n",
       "        vertical-align: middle;\n",
       "    }\n",
       "\n",
       "    .dataframe tbody tr th {\n",
       "        vertical-align: top;\n",
       "    }\n",
       "\n",
       "    .dataframe thead th {\n",
       "        text-align: right;\n",
       "    }\n",
       "</style>\n",
       "<table border=\"1\" class=\"dataframe\">\n",
       "  <thead>\n",
       "    <tr style=\"text-align: right;\">\n",
       "      <th></th>\n",
       "      <th>id</th>\n",
       "      <th>dialogue</th>\n",
       "    </tr>\n",
       "  </thead>\n",
       "  <tbody>\n",
       "    <tr>\n",
       "      <th>0</th>\n",
       "      <td>0</td>\n",
       "      <td>Boy! Did you see the way Mama whopped that dep...</td>\n",
       "    </tr>\n",
       "    <tr>\n",
       "      <th>1</th>\n",
       "      <td>1</td>\n",
       "      <td>Gordon, the insurance people are balking on th...</td>\n",
       "    </tr>\n",
       "    <tr>\n",
       "      <th>2</th>\n",
       "      <td>2</td>\n",
       "      <td>Very fancy.  Did you design the bottle? &lt;BR&gt; W...</td>\n",
       "    </tr>\n",
       "    <tr>\n",
       "      <th>3</th>\n",
       "      <td>3</td>\n",
       "      <td>It makes me so mad. Steven Schwimmer ready to ...</td>\n",
       "    </tr>\n",
       "    <tr>\n",
       "      <th>4</th>\n",
       "      <td>4</td>\n",
       "      <td>Something ought to loosen him up ... how comes...</td>\n",
       "    </tr>\n",
       "  </tbody>\n",
       "</table>\n",
       "</div>"
      ],
      "text/plain": [
       "   id                                           dialogue\n",
       "0   0  Boy! Did you see the way Mama whopped that dep...\n",
       "1   1  Gordon, the insurance people are balking on th...\n",
       "2   2  Very fancy.  Did you design the bottle? <BR> W...\n",
       "3   3  It makes me so mad. Steven Schwimmer ready to ...\n",
       "4   4  Something ought to loosen him up ... how comes..."
      ]
     },
     "execution_count": 96,
     "metadata": {},
     "output_type": "execute_result"
    }
   ],
   "source": [
    "test.head()"
   ]
  },
  {
   "cell_type": "code",
   "execution_count": 68,
   "metadata": {},
   "outputs": [],
   "source": [
    "train = train.drop(['id', 'movie'], axis=1)"
   ]
  },
  {
   "cell_type": "code",
   "execution_count": 84,
   "metadata": {},
   "outputs": [],
   "source": [
    "train['genre_list'] = train['genres'].map(lambda x : x[1:-1].split(', '))"
   ]
  },
  {
   "cell_type": "code",
   "execution_count": 71,
   "metadata": {},
   "outputs": [],
   "source": [
    "genres = set()\n",
    "for x in train['genre_list']:\n",
    "    genres |= set(x)"
   ]
  },
  {
   "cell_type": "code",
   "execution_count": 86,
   "metadata": {},
   "outputs": [
    {
     "ename": "RuntimeError",
     "evalue": "module compiled against API version 0xc but this version of numpy is 0xb",
     "output_type": "error",
     "traceback": [
      "\u001b[0;31m---------------------------------------------------------------------------\u001b[0m",
      "\u001b[0;31mRuntimeError\u001b[0m                              Traceback (most recent call last)",
      "\u001b[0;31mRuntimeError\u001b[0m: module compiled against API version 0xc but this version of numpy is 0xb"
     ]
    }
   ],
   "source": [
    "train_full = train.drop('genre_list', 1).join(train.genre_list.str.join('|').str.get_dummies())"
   ]
  },
  {
   "cell_type": "code",
   "execution_count": 129,
   "metadata": {},
   "outputs": [],
   "source": [
    "#create 2-step pipeline: vectorizer and reclassifier\n",
    "pipe = pipeline.Pipeline(steps = [('vectorizer', CountVectorizer(min_df = 100, stop_words={'english'})), \n",
    "                                  ('classifier', OneVsRestClassifier(LogisticRegression(solver='sag'), n_jobs=1))])"
   ]
  },
  {
   "cell_type": "code",
   "execution_count": 89,
   "metadata": {},
   "outputs": [],
   "source": [
    "train_train, train_test = model_selection.train_test_split(train_full, random_state=42, test_size=0.33, shuffle=True)"
   ]
  },
  {
   "cell_type": "code",
   "execution_count": null,
   "metadata": {},
   "outputs": [],
   "source": []
  },
  {
   "cell_type": "code",
   "execution_count": 130,
   "metadata": {},
   "outputs": [
    {
     "name": "stdout",
     "output_type": "stream",
     "text": [
      "... Processing u'horror'\n"
     ]
    },
    {
     "name": "stderr",
     "output_type": "stream",
     "text": [
      "/Users/ponomarevandrew/anaconda3/lib/python3.6/site-packages/sklearn/linear_model/sag.py:326: ConvergenceWarning: The max_iter was reached which means the coef_ did not converge\n",
      "  \"the coef_ did not converge\", ConvergenceWarning)\n"
     ]
    },
    {
     "name": "stdout",
     "output_type": "stream",
     "text": [
      "Test accuracy is 0.9672346002621232\n",
      "... Processing u'comedy'\n"
     ]
    },
    {
     "name": "stderr",
     "output_type": "stream",
     "text": [
      "/Users/ponomarevandrew/anaconda3/lib/python3.6/site-packages/sklearn/linear_model/sag.py:326: ConvergenceWarning: The max_iter was reached which means the coef_ did not converge\n",
      "  \"the coef_ did not converge\", ConvergenceWarning)\n"
     ]
    },
    {
     "name": "stdout",
     "output_type": "stream",
     "text": [
      "Test accuracy is 0.8486238532110092\n",
      "... Processing u'mystery'\n"
     ]
    },
    {
     "name": "stderr",
     "output_type": "stream",
     "text": [
      "/Users/ponomarevandrew/anaconda3/lib/python3.6/site-packages/sklearn/linear_model/sag.py:326: ConvergenceWarning: The max_iter was reached which means the coef_ did not converge\n",
      "  \"the coef_ did not converge\", ConvergenceWarning)\n"
     ]
    },
    {
     "name": "stdout",
     "output_type": "stream",
     "text": [
      "Test accuracy is 0.9284895150720839\n",
      "... Processing u'adventure'\n"
     ]
    },
    {
     "name": "stderr",
     "output_type": "stream",
     "text": [
      "/Users/ponomarevandrew/anaconda3/lib/python3.6/site-packages/sklearn/linear_model/sag.py:326: ConvergenceWarning: The max_iter was reached which means the coef_ did not converge\n",
      "  \"the coef_ did not converge\", ConvergenceWarning)\n"
     ]
    },
    {
     "name": "stdout",
     "output_type": "stream",
     "text": [
      "Test accuracy is 0.9291448230668414\n",
      "... Processing u'family'\n"
     ]
    },
    {
     "name": "stderr",
     "output_type": "stream",
     "text": [
      "/Users/ponomarevandrew/anaconda3/lib/python3.6/site-packages/sklearn/linear_model/sag.py:326: ConvergenceWarning: The max_iter was reached which means the coef_ did not converge\n",
      "  \"the coef_ did not converge\", ConvergenceWarning)\n"
     ]
    },
    {
     "name": "stdout",
     "output_type": "stream",
     "text": [
      "Test accuracy is 0.9961500655307994\n",
      "... Processing u'history'\n"
     ]
    },
    {
     "name": "stderr",
     "output_type": "stream",
     "text": [
      "/Users/ponomarevandrew/anaconda3/lib/python3.6/site-packages/sklearn/linear_model/sag.py:326: ConvergenceWarning: The max_iter was reached which means the coef_ did not converge\n",
      "  \"the coef_ did not converge\", ConvergenceWarning)\n"
     ]
    },
    {
     "name": "stdout",
     "output_type": "stream",
     "text": [
      "Test accuracy is 0.9945117955439057\n",
      "... Processing u'fantasy'\n"
     ]
    },
    {
     "name": "stderr",
     "output_type": "stream",
     "text": [
      "/Users/ponomarevandrew/anaconda3/lib/python3.6/site-packages/sklearn/linear_model/sag.py:326: ConvergenceWarning: The max_iter was reached which means the coef_ did not converge\n",
      "  \"the coef_ did not converge\", ConvergenceWarning)\n"
     ]
    },
    {
     "name": "stdout",
     "output_type": "stream",
     "text": [
      "Test accuracy is 0.9751802096985583\n",
      "... Processing u'war'\n"
     ]
    },
    {
     "name": "stderr",
     "output_type": "stream",
     "text": [
      "/Users/ponomarevandrew/anaconda3/lib/python3.6/site-packages/sklearn/linear_model/sag.py:326: ConvergenceWarning: The max_iter was reached which means the coef_ did not converge\n",
      "  \"the coef_ did not converge\", ConvergenceWarning)\n"
     ]
    },
    {
     "name": "stdout",
     "output_type": "stream",
     "text": [
      "Test accuracy is 0.9862385321100917\n",
      "... Processing u'sci-fi'\n"
     ]
    },
    {
     "name": "stderr",
     "output_type": "stream",
     "text": [
      "/Users/ponomarevandrew/anaconda3/lib/python3.6/site-packages/sklearn/linear_model/sag.py:326: ConvergenceWarning: The max_iter was reached which means the coef_ did not converge\n",
      "  \"the coef_ did not converge\", ConvergenceWarning)\n"
     ]
    },
    {
     "name": "stdout",
     "output_type": "stream",
     "text": [
      "Test accuracy is 0.9252948885976409\n",
      "... Processing u'sport'\n"
     ]
    },
    {
     "name": "stderr",
     "output_type": "stream",
     "text": [
      "/Users/ponomarevandrew/anaconda3/lib/python3.6/site-packages/sklearn/linear_model/sag.py:326: ConvergenceWarning: The max_iter was reached which means the coef_ did not converge\n",
      "  \"the coef_ did not converge\", ConvergenceWarning)\n"
     ]
    },
    {
     "name": "stdout",
     "output_type": "stream",
     "text": [
      "Test accuracy is 0.9952490170380078\n",
      "... Processing u'western'\n"
     ]
    },
    {
     "name": "stderr",
     "output_type": "stream",
     "text": [
      "/Users/ponomarevandrew/anaconda3/lib/python3.6/site-packages/sklearn/linear_model/sag.py:326: ConvergenceWarning: The max_iter was reached which means the coef_ did not converge\n",
      "  \"the coef_ did not converge\", ConvergenceWarning)\n"
     ]
    },
    {
     "name": "stdout",
     "output_type": "stream",
     "text": [
      "Test accuracy is 0.9956585845347313\n",
      "... Processing u'animation'\n"
     ]
    },
    {
     "name": "stderr",
     "output_type": "stream",
     "text": [
      "/Users/ponomarevandrew/anaconda3/lib/python3.6/site-packages/sklearn/linear_model/sag.py:326: ConvergenceWarning: The max_iter was reached which means the coef_ did not converge\n",
      "  \"the coef_ did not converge\", ConvergenceWarning)\n"
     ]
    },
    {
     "name": "stdout",
     "output_type": "stream",
     "text": [
      "Test accuracy is 0.9986074705111402\n",
      "... Processing u'biography'\n"
     ]
    },
    {
     "name": "stderr",
     "output_type": "stream",
     "text": [
      "/Users/ponomarevandrew/anaconda3/lib/python3.6/site-packages/sklearn/linear_model/sag.py:326: ConvergenceWarning: The max_iter was reached which means the coef_ did not converge\n",
      "  \"the coef_ did not converge\", ConvergenceWarning)\n"
     ]
    },
    {
     "name": "stdout",
     "output_type": "stream",
     "text": [
      "Test accuracy is 0.9770642201834863\n",
      "... Processing u'thriller'\n"
     ]
    },
    {
     "name": "stderr",
     "output_type": "stream",
     "text": [
      "/Users/ponomarevandrew/anaconda3/lib/python3.6/site-packages/sklearn/linear_model/sag.py:326: ConvergenceWarning: The max_iter was reached which means the coef_ did not converge\n",
      "  \"the coef_ did not converge\", ConvergenceWarning)\n"
     ]
    },
    {
     "name": "stdout",
     "output_type": "stream",
     "text": [
      "Test accuracy is 0.7805537352555701\n",
      "... Processing u'action'\n"
     ]
    },
    {
     "name": "stderr",
     "output_type": "stream",
     "text": [
      "/Users/ponomarevandrew/anaconda3/lib/python3.6/site-packages/sklearn/linear_model/sag.py:326: ConvergenceWarning: The max_iter was reached which means the coef_ did not converge\n",
      "  \"the coef_ did not converge\", ConvergenceWarning)\n"
     ]
    },
    {
     "name": "stdout",
     "output_type": "stream",
     "text": [
      "Test accuracy is 0.8529652686762779\n",
      "... Processing u'music'\n"
     ]
    },
    {
     "name": "stderr",
     "output_type": "stream",
     "text": [
      "/Users/ponomarevandrew/anaconda3/lib/python3.6/site-packages/sklearn/linear_model/sag.py:326: ConvergenceWarning: The max_iter was reached which means the coef_ did not converge\n",
      "  \"the coef_ did not converge\", ConvergenceWarning)\n"
     ]
    },
    {
     "name": "stdout",
     "output_type": "stream",
     "text": [
      "Test accuracy is 0.9920543905635649\n",
      "... Processing u'musical'\n"
     ]
    },
    {
     "name": "stderr",
     "output_type": "stream",
     "text": [
      "/Users/ponomarevandrew/anaconda3/lib/python3.6/site-packages/sklearn/linear_model/sag.py:326: ConvergenceWarning: The max_iter was reached which means the coef_ did not converge\n",
      "  \"the coef_ did not converge\", ConvergenceWarning)\n"
     ]
    },
    {
     "name": "stdout",
     "output_type": "stream",
     "text": [
      "Test accuracy is 0.9988532110091743\n",
      "... Processing u'crime'\n"
     ]
    },
    {
     "name": "stderr",
     "output_type": "stream",
     "text": [
      "/Users/ponomarevandrew/anaconda3/lib/python3.6/site-packages/sklearn/linear_model/sag.py:326: ConvergenceWarning: The max_iter was reached which means the coef_ did not converge\n",
      "  \"the coef_ did not converge\", ConvergenceWarning)\n"
     ]
    },
    {
     "name": "stdout",
     "output_type": "stream",
     "text": [
      "Test accuracy is 0.8618119266055045\n",
      "... Processing u'romance'\n"
     ]
    },
    {
     "name": "stderr",
     "output_type": "stream",
     "text": [
      "/Users/ponomarevandrew/anaconda3/lib/python3.6/site-packages/sklearn/linear_model/sag.py:326: ConvergenceWarning: The max_iter was reached which means the coef_ did not converge\n",
      "  \"the coef_ did not converge\", ConvergenceWarning)\n"
     ]
    },
    {
     "name": "stdout",
     "output_type": "stream",
     "text": [
      "Test accuracy is 0.8592726081258192\n",
      "... Processing u'drama'\n"
     ]
    },
    {
     "name": "stderr",
     "output_type": "stream",
     "text": [
      "/Users/ponomarevandrew/anaconda3/lib/python3.6/site-packages/sklearn/linear_model/sag.py:326: ConvergenceWarning: The max_iter was reached which means the coef_ did not converge\n",
      "  \"the coef_ did not converge\", ConvergenceWarning)\n"
     ]
    },
    {
     "name": "stdout",
     "output_type": "stream",
     "text": [
      "Test accuracy is 0.7848951507208388\n"
     ]
    }
   ],
   "source": [
    "for g in genres:\n",
    "    print('... Processing {}'.format(g))\n",
    "    # train the model using X_dtm & y\n",
    "    pipe.fit(train_train['dialogue'], train_train[g])\n",
    "    # compute the testing accuracy\n",
    "    prediction = pipe.predict(train_test['dialogue'])\n",
    "    print('Test accuracy is {}'.format(metrics.accuracy_score(train_test[g], prediction)))"
   ]
  },
  {
   "cell_type": "code",
   "execution_count": 133,
   "metadata": {},
   "outputs": [
    {
     "name": "stdout",
     "output_type": "stream",
     "text": [
      "... Processing u'horror'\n"
     ]
    },
    {
     "name": "stderr",
     "output_type": "stream",
     "text": [
      "/Users/ponomarevandrew/anaconda3/lib/python3.6/site-packages/sklearn/linear_model/sag.py:326: ConvergenceWarning: The max_iter was reached which means the coef_ did not converge\n",
      "  \"the coef_ did not converge\", ConvergenceWarning)\n"
     ]
    },
    {
     "name": "stdout",
     "output_type": "stream",
     "text": [
      "... Processing u'comedy'\n"
     ]
    },
    {
     "name": "stderr",
     "output_type": "stream",
     "text": [
      "/Users/ponomarevandrew/anaconda3/lib/python3.6/site-packages/sklearn/linear_model/sag.py:326: ConvergenceWarning: The max_iter was reached which means the coef_ did not converge\n",
      "  \"the coef_ did not converge\", ConvergenceWarning)\n"
     ]
    },
    {
     "name": "stdout",
     "output_type": "stream",
     "text": [
      "... Processing u'mystery'\n"
     ]
    },
    {
     "name": "stderr",
     "output_type": "stream",
     "text": [
      "/Users/ponomarevandrew/anaconda3/lib/python3.6/site-packages/sklearn/linear_model/sag.py:326: ConvergenceWarning: The max_iter was reached which means the coef_ did not converge\n",
      "  \"the coef_ did not converge\", ConvergenceWarning)\n"
     ]
    },
    {
     "name": "stdout",
     "output_type": "stream",
     "text": [
      "... Processing u'adventure'\n"
     ]
    },
    {
     "name": "stderr",
     "output_type": "stream",
     "text": [
      "/Users/ponomarevandrew/anaconda3/lib/python3.6/site-packages/sklearn/linear_model/sag.py:326: ConvergenceWarning: The max_iter was reached which means the coef_ did not converge\n",
      "  \"the coef_ did not converge\", ConvergenceWarning)\n"
     ]
    },
    {
     "name": "stdout",
     "output_type": "stream",
     "text": [
      "... Processing u'family'\n"
     ]
    },
    {
     "name": "stderr",
     "output_type": "stream",
     "text": [
      "/Users/ponomarevandrew/anaconda3/lib/python3.6/site-packages/sklearn/linear_model/sag.py:326: ConvergenceWarning: The max_iter was reached which means the coef_ did not converge\n",
      "  \"the coef_ did not converge\", ConvergenceWarning)\n"
     ]
    },
    {
     "name": "stdout",
     "output_type": "stream",
     "text": [
      "... Processing u'history'\n"
     ]
    },
    {
     "name": "stderr",
     "output_type": "stream",
     "text": [
      "/Users/ponomarevandrew/anaconda3/lib/python3.6/site-packages/sklearn/linear_model/sag.py:326: ConvergenceWarning: The max_iter was reached which means the coef_ did not converge\n",
      "  \"the coef_ did not converge\", ConvergenceWarning)\n"
     ]
    },
    {
     "name": "stdout",
     "output_type": "stream",
     "text": [
      "... Processing u'fantasy'\n"
     ]
    },
    {
     "name": "stderr",
     "output_type": "stream",
     "text": [
      "/Users/ponomarevandrew/anaconda3/lib/python3.6/site-packages/sklearn/linear_model/sag.py:326: ConvergenceWarning: The max_iter was reached which means the coef_ did not converge\n",
      "  \"the coef_ did not converge\", ConvergenceWarning)\n"
     ]
    },
    {
     "name": "stdout",
     "output_type": "stream",
     "text": [
      "... Processing u'war'\n"
     ]
    },
    {
     "name": "stderr",
     "output_type": "stream",
     "text": [
      "/Users/ponomarevandrew/anaconda3/lib/python3.6/site-packages/sklearn/linear_model/sag.py:326: ConvergenceWarning: The max_iter was reached which means the coef_ did not converge\n",
      "  \"the coef_ did not converge\", ConvergenceWarning)\n"
     ]
    },
    {
     "name": "stdout",
     "output_type": "stream",
     "text": [
      "... Processing u'sci-fi'\n"
     ]
    },
    {
     "name": "stderr",
     "output_type": "stream",
     "text": [
      "/Users/ponomarevandrew/anaconda3/lib/python3.6/site-packages/sklearn/linear_model/sag.py:326: ConvergenceWarning: The max_iter was reached which means the coef_ did not converge\n",
      "  \"the coef_ did not converge\", ConvergenceWarning)\n"
     ]
    },
    {
     "name": "stdout",
     "output_type": "stream",
     "text": [
      "... Processing u'sport'\n"
     ]
    },
    {
     "name": "stderr",
     "output_type": "stream",
     "text": [
      "/Users/ponomarevandrew/anaconda3/lib/python3.6/site-packages/sklearn/linear_model/sag.py:326: ConvergenceWarning: The max_iter was reached which means the coef_ did not converge\n",
      "  \"the coef_ did not converge\", ConvergenceWarning)\n"
     ]
    },
    {
     "name": "stdout",
     "output_type": "stream",
     "text": [
      "... Processing u'western'\n"
     ]
    },
    {
     "name": "stderr",
     "output_type": "stream",
     "text": [
      "/Users/ponomarevandrew/anaconda3/lib/python3.6/site-packages/sklearn/linear_model/sag.py:326: ConvergenceWarning: The max_iter was reached which means the coef_ did not converge\n",
      "  \"the coef_ did not converge\", ConvergenceWarning)\n"
     ]
    },
    {
     "name": "stdout",
     "output_type": "stream",
     "text": [
      "... Processing u'animation'\n"
     ]
    },
    {
     "name": "stderr",
     "output_type": "stream",
     "text": [
      "/Users/ponomarevandrew/anaconda3/lib/python3.6/site-packages/sklearn/linear_model/sag.py:326: ConvergenceWarning: The max_iter was reached which means the coef_ did not converge\n",
      "  \"the coef_ did not converge\", ConvergenceWarning)\n"
     ]
    },
    {
     "name": "stdout",
     "output_type": "stream",
     "text": [
      "... Processing u'biography'\n"
     ]
    },
    {
     "name": "stderr",
     "output_type": "stream",
     "text": [
      "/Users/ponomarevandrew/anaconda3/lib/python3.6/site-packages/sklearn/linear_model/sag.py:326: ConvergenceWarning: The max_iter was reached which means the coef_ did not converge\n",
      "  \"the coef_ did not converge\", ConvergenceWarning)\n"
     ]
    },
    {
     "name": "stdout",
     "output_type": "stream",
     "text": [
      "... Processing u'thriller'\n"
     ]
    },
    {
     "name": "stderr",
     "output_type": "stream",
     "text": [
      "/Users/ponomarevandrew/anaconda3/lib/python3.6/site-packages/sklearn/linear_model/sag.py:326: ConvergenceWarning: The max_iter was reached which means the coef_ did not converge\n",
      "  \"the coef_ did not converge\", ConvergenceWarning)\n"
     ]
    },
    {
     "name": "stdout",
     "output_type": "stream",
     "text": [
      "... Processing u'action'\n"
     ]
    },
    {
     "name": "stderr",
     "output_type": "stream",
     "text": [
      "/Users/ponomarevandrew/anaconda3/lib/python3.6/site-packages/sklearn/linear_model/sag.py:326: ConvergenceWarning: The max_iter was reached which means the coef_ did not converge\n",
      "  \"the coef_ did not converge\", ConvergenceWarning)\n"
     ]
    },
    {
     "name": "stdout",
     "output_type": "stream",
     "text": [
      "... Processing u'music'\n"
     ]
    },
    {
     "name": "stderr",
     "output_type": "stream",
     "text": [
      "/Users/ponomarevandrew/anaconda3/lib/python3.6/site-packages/sklearn/linear_model/sag.py:326: ConvergenceWarning: The max_iter was reached which means the coef_ did not converge\n",
      "  \"the coef_ did not converge\", ConvergenceWarning)\n"
     ]
    },
    {
     "name": "stdout",
     "output_type": "stream",
     "text": [
      "... Processing u'musical'\n"
     ]
    },
    {
     "name": "stderr",
     "output_type": "stream",
     "text": [
      "/Users/ponomarevandrew/anaconda3/lib/python3.6/site-packages/sklearn/linear_model/sag.py:326: ConvergenceWarning: The max_iter was reached which means the coef_ did not converge\n",
      "  \"the coef_ did not converge\", ConvergenceWarning)\n"
     ]
    },
    {
     "name": "stdout",
     "output_type": "stream",
     "text": [
      "... Processing u'crime'\n"
     ]
    },
    {
     "name": "stderr",
     "output_type": "stream",
     "text": [
      "/Users/ponomarevandrew/anaconda3/lib/python3.6/site-packages/sklearn/linear_model/sag.py:326: ConvergenceWarning: The max_iter was reached which means the coef_ did not converge\n",
      "  \"the coef_ did not converge\", ConvergenceWarning)\n"
     ]
    },
    {
     "name": "stdout",
     "output_type": "stream",
     "text": [
      "... Processing u'romance'\n"
     ]
    },
    {
     "name": "stderr",
     "output_type": "stream",
     "text": [
      "/Users/ponomarevandrew/anaconda3/lib/python3.6/site-packages/sklearn/linear_model/sag.py:326: ConvergenceWarning: The max_iter was reached which means the coef_ did not converge\n",
      "  \"the coef_ did not converge\", ConvergenceWarning)\n"
     ]
    },
    {
     "name": "stdout",
     "output_type": "stream",
     "text": [
      "... Processing u'drama'\n"
     ]
    },
    {
     "name": "stderr",
     "output_type": "stream",
     "text": [
      "/Users/ponomarevandrew/anaconda3/lib/python3.6/site-packages/sklearn/linear_model/sag.py:326: ConvergenceWarning: The max_iter was reached which means the coef_ did not converge\n",
      "  \"the coef_ did not converge\", ConvergenceWarning)\n"
     ]
    }
   ],
   "source": [
    "result = test.copy()\n",
    "for g in genres:\n",
    "    print('... Processing {}'.format(g))\n",
    "    # train the model using X_dtm & y\n",
    "    pipe.fit(train_full['dialogue'], train_full[g])\n",
    "    # compute the testing accuracy\n",
    "    prediction = np.array([x[1] for x in pipe.predict_proba(test['dialogue'])])\n",
    "    result[g] = prediction.tolist()"
   ]
  },
  {
   "cell_type": "code",
   "execution_count": 134,
   "metadata": {},
   "outputs": [
    {
     "data": {
      "text/html": [
       "<div>\n",
       "<style scoped>\n",
       "    .dataframe tbody tr th:only-of-type {\n",
       "        vertical-align: middle;\n",
       "    }\n",
       "\n",
       "    .dataframe tbody tr th {\n",
       "        vertical-align: top;\n",
       "    }\n",
       "\n",
       "    .dataframe thead th {\n",
       "        text-align: right;\n",
       "    }\n",
       "</style>\n",
       "<table border=\"1\" class=\"dataframe\">\n",
       "  <thead>\n",
       "    <tr style=\"text-align: right;\">\n",
       "      <th></th>\n",
       "      <th>id</th>\n",
       "      <th>dialogue</th>\n",
       "      <th>u'horror'</th>\n",
       "      <th>u'comedy'</th>\n",
       "      <th>u'mystery'</th>\n",
       "      <th>u'adventure'</th>\n",
       "      <th>u'family'</th>\n",
       "      <th>u'history'</th>\n",
       "      <th>u'fantasy'</th>\n",
       "      <th>u'war'</th>\n",
       "      <th>...</th>\n",
       "      <th>u'western'</th>\n",
       "      <th>u'animation'</th>\n",
       "      <th>u'biography'</th>\n",
       "      <th>u'thriller'</th>\n",
       "      <th>u'action'</th>\n",
       "      <th>u'music'</th>\n",
       "      <th>u'musical'</th>\n",
       "      <th>u'crime'</th>\n",
       "      <th>u'romance'</th>\n",
       "      <th>u'drama'</th>\n",
       "    </tr>\n",
       "  </thead>\n",
       "  <tbody>\n",
       "    <tr>\n",
       "      <th>0</th>\n",
       "      <td>0</td>\n",
       "      <td>Boy! Did you see the way Mama whopped that dep...</td>\n",
       "      <td>0.084586</td>\n",
       "      <td>0.064037</td>\n",
       "      <td>0.081484</td>\n",
       "      <td>0.013718</td>\n",
       "      <td>1.025440e-02</td>\n",
       "      <td>0.007888</td>\n",
       "      <td>0.026657</td>\n",
       "      <td>0.015082</td>\n",
       "      <td>...</td>\n",
       "      <td>0.036913</td>\n",
       "      <td>1.768394e-03</td>\n",
       "      <td>0.010669</td>\n",
       "      <td>0.489727</td>\n",
       "      <td>0.088973</td>\n",
       "      <td>0.014999</td>\n",
       "      <td>3.241520e-03</td>\n",
       "      <td>0.745424</td>\n",
       "      <td>0.247159</td>\n",
       "      <td>0.524000</td>\n",
       "    </tr>\n",
       "    <tr>\n",
       "      <th>1</th>\n",
       "      <td>1</td>\n",
       "      <td>Gordon, the insurance people are balking on th...</td>\n",
       "      <td>0.025715</td>\n",
       "      <td>0.132819</td>\n",
       "      <td>0.104734</td>\n",
       "      <td>0.084721</td>\n",
       "      <td>2.430368e-03</td>\n",
       "      <td>0.018534</td>\n",
       "      <td>0.017670</td>\n",
       "      <td>0.043876</td>\n",
       "      <td>...</td>\n",
       "      <td>0.006179</td>\n",
       "      <td>6.267880e-04</td>\n",
       "      <td>0.113516</td>\n",
       "      <td>0.251663</td>\n",
       "      <td>0.159450</td>\n",
       "      <td>0.008384</td>\n",
       "      <td>8.646914e-04</td>\n",
       "      <td>0.103948</td>\n",
       "      <td>0.105419</td>\n",
       "      <td>0.912407</td>\n",
       "    </tr>\n",
       "    <tr>\n",
       "      <th>2</th>\n",
       "      <td>2</td>\n",
       "      <td>Very fancy.  Did you design the bottle? &lt;BR&gt; W...</td>\n",
       "      <td>0.000356</td>\n",
       "      <td>0.070334</td>\n",
       "      <td>0.009895</td>\n",
       "      <td>0.085341</td>\n",
       "      <td>6.979026e-06</td>\n",
       "      <td>0.000009</td>\n",
       "      <td>0.001123</td>\n",
       "      <td>0.003821</td>\n",
       "      <td>...</td>\n",
       "      <td>0.000019</td>\n",
       "      <td>7.751727e-08</td>\n",
       "      <td>0.001168</td>\n",
       "      <td>0.035053</td>\n",
       "      <td>0.119129</td>\n",
       "      <td>0.000030</td>\n",
       "      <td>2.100333e-08</td>\n",
       "      <td>0.013524</td>\n",
       "      <td>0.012336</td>\n",
       "      <td>0.886206</td>\n",
       "    </tr>\n",
       "    <tr>\n",
       "      <th>3</th>\n",
       "      <td>3</td>\n",
       "      <td>It makes me so mad. Steven Schwimmer ready to ...</td>\n",
       "      <td>0.007306</td>\n",
       "      <td>0.080126</td>\n",
       "      <td>0.003609</td>\n",
       "      <td>0.063049</td>\n",
       "      <td>3.098677e-07</td>\n",
       "      <td>0.000002</td>\n",
       "      <td>0.008068</td>\n",
       "      <td>0.002707</td>\n",
       "      <td>...</td>\n",
       "      <td>0.000006</td>\n",
       "      <td>5.231800e-08</td>\n",
       "      <td>0.005598</td>\n",
       "      <td>0.028033</td>\n",
       "      <td>0.153437</td>\n",
       "      <td>0.000167</td>\n",
       "      <td>1.208801e-07</td>\n",
       "      <td>0.052534</td>\n",
       "      <td>0.162434</td>\n",
       "      <td>0.906562</td>\n",
       "    </tr>\n",
       "    <tr>\n",
       "      <th>4</th>\n",
       "      <td>4</td>\n",
       "      <td>Something ought to loosen him up ... how comes...</td>\n",
       "      <td>0.200350</td>\n",
       "      <td>0.367231</td>\n",
       "      <td>0.272128</td>\n",
       "      <td>0.088615</td>\n",
       "      <td>4.623182e-03</td>\n",
       "      <td>0.030383</td>\n",
       "      <td>0.032167</td>\n",
       "      <td>0.035930</td>\n",
       "      <td>...</td>\n",
       "      <td>0.025432</td>\n",
       "      <td>6.648261e-03</td>\n",
       "      <td>0.031456</td>\n",
       "      <td>0.458860</td>\n",
       "      <td>0.469866</td>\n",
       "      <td>0.012826</td>\n",
       "      <td>1.227411e-02</td>\n",
       "      <td>0.213798</td>\n",
       "      <td>0.264209</td>\n",
       "      <td>0.235865</td>\n",
       "    </tr>\n",
       "  </tbody>\n",
       "</table>\n",
       "<p>5 rows × 22 columns</p>\n",
       "</div>"
      ],
      "text/plain": [
       "   id                                           dialogue  u'horror'  \\\n",
       "0   0  Boy! Did you see the way Mama whopped that dep...   0.084586   \n",
       "1   1  Gordon, the insurance people are balking on th...   0.025715   \n",
       "2   2  Very fancy.  Did you design the bottle? <BR> W...   0.000356   \n",
       "3   3  It makes me so mad. Steven Schwimmer ready to ...   0.007306   \n",
       "4   4  Something ought to loosen him up ... how comes...   0.200350   \n",
       "\n",
       "   u'comedy'  u'mystery'  u'adventure'     u'family'  u'history'  u'fantasy'  \\\n",
       "0   0.064037    0.081484      0.013718  1.025440e-02    0.007888    0.026657   \n",
       "1   0.132819    0.104734      0.084721  2.430368e-03    0.018534    0.017670   \n",
       "2   0.070334    0.009895      0.085341  6.979026e-06    0.000009    0.001123   \n",
       "3   0.080126    0.003609      0.063049  3.098677e-07    0.000002    0.008068   \n",
       "4   0.367231    0.272128      0.088615  4.623182e-03    0.030383    0.032167   \n",
       "\n",
       "     u'war'    ...     u'western'  u'animation'  u'biography'  u'thriller'  \\\n",
       "0  0.015082    ...       0.036913  1.768394e-03      0.010669     0.489727   \n",
       "1  0.043876    ...       0.006179  6.267880e-04      0.113516     0.251663   \n",
       "2  0.003821    ...       0.000019  7.751727e-08      0.001168     0.035053   \n",
       "3  0.002707    ...       0.000006  5.231800e-08      0.005598     0.028033   \n",
       "4  0.035930    ...       0.025432  6.648261e-03      0.031456     0.458860   \n",
       "\n",
       "   u'action'  u'music'    u'musical'  u'crime'  u'romance'  u'drama'  \n",
       "0   0.088973  0.014999  3.241520e-03  0.745424    0.247159  0.524000  \n",
       "1   0.159450  0.008384  8.646914e-04  0.103948    0.105419  0.912407  \n",
       "2   0.119129  0.000030  2.100333e-08  0.013524    0.012336  0.886206  \n",
       "3   0.153437  0.000167  1.208801e-07  0.052534    0.162434  0.906562  \n",
       "4   0.469866  0.012826  1.227411e-02  0.213798    0.264209  0.235865  \n",
       "\n",
       "[5 rows x 22 columns]"
      ]
     },
     "execution_count": 134,
     "metadata": {},
     "output_type": "execute_result"
    }
   ],
   "source": [
    "result.head()"
   ]
  },
  {
   "cell_type": "code",
   "execution_count": 135,
   "metadata": {},
   "outputs": [],
   "source": [
    "result['answer'] = result.drop(['id', 'dialogue'], axis=1).idxmax(axis=1)"
   ]
  },
  {
   "cell_type": "code",
   "execution_count": 136,
   "metadata": {},
   "outputs": [
    {
     "data": {
      "text/html": [
       "<div>\n",
       "<style scoped>\n",
       "    .dataframe tbody tr th:only-of-type {\n",
       "        vertical-align: middle;\n",
       "    }\n",
       "\n",
       "    .dataframe tbody tr th {\n",
       "        vertical-align: top;\n",
       "    }\n",
       "\n",
       "    .dataframe thead th {\n",
       "        text-align: right;\n",
       "    }\n",
       "</style>\n",
       "<table border=\"1\" class=\"dataframe\">\n",
       "  <thead>\n",
       "    <tr style=\"text-align: right;\">\n",
       "      <th></th>\n",
       "      <th>id</th>\n",
       "      <th>dialogue</th>\n",
       "      <th>u'horror'</th>\n",
       "      <th>u'comedy'</th>\n",
       "      <th>u'mystery'</th>\n",
       "      <th>u'adventure'</th>\n",
       "      <th>u'family'</th>\n",
       "      <th>u'history'</th>\n",
       "      <th>u'fantasy'</th>\n",
       "      <th>u'war'</th>\n",
       "      <th>...</th>\n",
       "      <th>u'animation'</th>\n",
       "      <th>u'biography'</th>\n",
       "      <th>u'thriller'</th>\n",
       "      <th>u'action'</th>\n",
       "      <th>u'music'</th>\n",
       "      <th>u'musical'</th>\n",
       "      <th>u'crime'</th>\n",
       "      <th>u'romance'</th>\n",
       "      <th>u'drama'</th>\n",
       "      <th>answer</th>\n",
       "    </tr>\n",
       "  </thead>\n",
       "  <tbody>\n",
       "    <tr>\n",
       "      <th>0</th>\n",
       "      <td>0</td>\n",
       "      <td>Boy! Did you see the way Mama whopped that dep...</td>\n",
       "      <td>0.084586</td>\n",
       "      <td>0.064037</td>\n",
       "      <td>0.081484</td>\n",
       "      <td>0.013718</td>\n",
       "      <td>1.025440e-02</td>\n",
       "      <td>0.007888</td>\n",
       "      <td>0.026657</td>\n",
       "      <td>0.015082</td>\n",
       "      <td>...</td>\n",
       "      <td>1.768394e-03</td>\n",
       "      <td>0.010669</td>\n",
       "      <td>0.489727</td>\n",
       "      <td>0.088973</td>\n",
       "      <td>0.014999</td>\n",
       "      <td>3.241520e-03</td>\n",
       "      <td>0.745424</td>\n",
       "      <td>0.247159</td>\n",
       "      <td>0.524000</td>\n",
       "      <td>u'crime'</td>\n",
       "    </tr>\n",
       "    <tr>\n",
       "      <th>1</th>\n",
       "      <td>1</td>\n",
       "      <td>Gordon, the insurance people are balking on th...</td>\n",
       "      <td>0.025715</td>\n",
       "      <td>0.132819</td>\n",
       "      <td>0.104734</td>\n",
       "      <td>0.084721</td>\n",
       "      <td>2.430368e-03</td>\n",
       "      <td>0.018534</td>\n",
       "      <td>0.017670</td>\n",
       "      <td>0.043876</td>\n",
       "      <td>...</td>\n",
       "      <td>6.267880e-04</td>\n",
       "      <td>0.113516</td>\n",
       "      <td>0.251663</td>\n",
       "      <td>0.159450</td>\n",
       "      <td>0.008384</td>\n",
       "      <td>8.646914e-04</td>\n",
       "      <td>0.103948</td>\n",
       "      <td>0.105419</td>\n",
       "      <td>0.912407</td>\n",
       "      <td>u'drama'</td>\n",
       "    </tr>\n",
       "    <tr>\n",
       "      <th>2</th>\n",
       "      <td>2</td>\n",
       "      <td>Very fancy.  Did you design the bottle? &lt;BR&gt; W...</td>\n",
       "      <td>0.000356</td>\n",
       "      <td>0.070334</td>\n",
       "      <td>0.009895</td>\n",
       "      <td>0.085341</td>\n",
       "      <td>6.979026e-06</td>\n",
       "      <td>0.000009</td>\n",
       "      <td>0.001123</td>\n",
       "      <td>0.003821</td>\n",
       "      <td>...</td>\n",
       "      <td>7.751727e-08</td>\n",
       "      <td>0.001168</td>\n",
       "      <td>0.035053</td>\n",
       "      <td>0.119129</td>\n",
       "      <td>0.000030</td>\n",
       "      <td>2.100333e-08</td>\n",
       "      <td>0.013524</td>\n",
       "      <td>0.012336</td>\n",
       "      <td>0.886206</td>\n",
       "      <td>u'drama'</td>\n",
       "    </tr>\n",
       "    <tr>\n",
       "      <th>3</th>\n",
       "      <td>3</td>\n",
       "      <td>It makes me so mad. Steven Schwimmer ready to ...</td>\n",
       "      <td>0.007306</td>\n",
       "      <td>0.080126</td>\n",
       "      <td>0.003609</td>\n",
       "      <td>0.063049</td>\n",
       "      <td>3.098677e-07</td>\n",
       "      <td>0.000002</td>\n",
       "      <td>0.008068</td>\n",
       "      <td>0.002707</td>\n",
       "      <td>...</td>\n",
       "      <td>5.231800e-08</td>\n",
       "      <td>0.005598</td>\n",
       "      <td>0.028033</td>\n",
       "      <td>0.153437</td>\n",
       "      <td>0.000167</td>\n",
       "      <td>1.208801e-07</td>\n",
       "      <td>0.052534</td>\n",
       "      <td>0.162434</td>\n",
       "      <td>0.906562</td>\n",
       "      <td>u'drama'</td>\n",
       "    </tr>\n",
       "    <tr>\n",
       "      <th>4</th>\n",
       "      <td>4</td>\n",
       "      <td>Something ought to loosen him up ... how comes...</td>\n",
       "      <td>0.200350</td>\n",
       "      <td>0.367231</td>\n",
       "      <td>0.272128</td>\n",
       "      <td>0.088615</td>\n",
       "      <td>4.623182e-03</td>\n",
       "      <td>0.030383</td>\n",
       "      <td>0.032167</td>\n",
       "      <td>0.035930</td>\n",
       "      <td>...</td>\n",
       "      <td>6.648261e-03</td>\n",
       "      <td>0.031456</td>\n",
       "      <td>0.458860</td>\n",
       "      <td>0.469866</td>\n",
       "      <td>0.012826</td>\n",
       "      <td>1.227411e-02</td>\n",
       "      <td>0.213798</td>\n",
       "      <td>0.264209</td>\n",
       "      <td>0.235865</td>\n",
       "      <td>u'action'</td>\n",
       "    </tr>\n",
       "  </tbody>\n",
       "</table>\n",
       "<p>5 rows × 23 columns</p>\n",
       "</div>"
      ],
      "text/plain": [
       "   id                                           dialogue  u'horror'  \\\n",
       "0   0  Boy! Did you see the way Mama whopped that dep...   0.084586   \n",
       "1   1  Gordon, the insurance people are balking on th...   0.025715   \n",
       "2   2  Very fancy.  Did you design the bottle? <BR> W...   0.000356   \n",
       "3   3  It makes me so mad. Steven Schwimmer ready to ...   0.007306   \n",
       "4   4  Something ought to loosen him up ... how comes...   0.200350   \n",
       "\n",
       "   u'comedy'  u'mystery'  u'adventure'     u'family'  u'history'  u'fantasy'  \\\n",
       "0   0.064037    0.081484      0.013718  1.025440e-02    0.007888    0.026657   \n",
       "1   0.132819    0.104734      0.084721  2.430368e-03    0.018534    0.017670   \n",
       "2   0.070334    0.009895      0.085341  6.979026e-06    0.000009    0.001123   \n",
       "3   0.080126    0.003609      0.063049  3.098677e-07    0.000002    0.008068   \n",
       "4   0.367231    0.272128      0.088615  4.623182e-03    0.030383    0.032167   \n",
       "\n",
       "     u'war'    ...      u'animation'  u'biography'  u'thriller'  u'action'  \\\n",
       "0  0.015082    ...      1.768394e-03      0.010669     0.489727   0.088973   \n",
       "1  0.043876    ...      6.267880e-04      0.113516     0.251663   0.159450   \n",
       "2  0.003821    ...      7.751727e-08      0.001168     0.035053   0.119129   \n",
       "3  0.002707    ...      5.231800e-08      0.005598     0.028033   0.153437   \n",
       "4  0.035930    ...      6.648261e-03      0.031456     0.458860   0.469866   \n",
       "\n",
       "   u'music'    u'musical'  u'crime'  u'romance'  u'drama'     answer  \n",
       "0  0.014999  3.241520e-03  0.745424    0.247159  0.524000   u'crime'  \n",
       "1  0.008384  8.646914e-04  0.103948    0.105419  0.912407   u'drama'  \n",
       "2  0.000030  2.100333e-08  0.013524    0.012336  0.886206   u'drama'  \n",
       "3  0.000167  1.208801e-07  0.052534    0.162434  0.906562   u'drama'  \n",
       "4  0.012826  1.227411e-02  0.213798    0.264209  0.235865  u'action'  \n",
       "\n",
       "[5 rows x 23 columns]"
      ]
     },
     "execution_count": 136,
     "metadata": {},
     "output_type": "execute_result"
    }
   ],
   "source": [
    "result.head()"
   ]
  },
  {
   "cell_type": "code",
   "execution_count": 137,
   "metadata": {},
   "outputs": [],
   "source": [
    "result['answer'] = result['answer'].map(lambda x : x[2:-1])"
   ]
  },
  {
   "cell_type": "code",
   "execution_count": 138,
   "metadata": {},
   "outputs": [],
   "source": [
    "result_result = result[['id','answer']]"
   ]
  },
  {
   "cell_type": "code",
   "execution_count": 139,
   "metadata": {},
   "outputs": [],
   "source": [
    "result_result = result_result.rename(columns={\"answer\": \"genres\"})"
   ]
  },
  {
   "cell_type": "code",
   "execution_count": 140,
   "metadata": {},
   "outputs": [
    {
     "data": {
      "text/html": [
       "<div>\n",
       "<style scoped>\n",
       "    .dataframe tbody tr th:only-of-type {\n",
       "        vertical-align: middle;\n",
       "    }\n",
       "\n",
       "    .dataframe tbody tr th {\n",
       "        vertical-align: top;\n",
       "    }\n",
       "\n",
       "    .dataframe thead th {\n",
       "        text-align: right;\n",
       "    }\n",
       "</style>\n",
       "<table border=\"1\" class=\"dataframe\">\n",
       "  <thead>\n",
       "    <tr style=\"text-align: right;\">\n",
       "      <th></th>\n",
       "      <th>id</th>\n",
       "      <th>genres</th>\n",
       "    </tr>\n",
       "  </thead>\n",
       "  <tbody>\n",
       "    <tr>\n",
       "      <th>0</th>\n",
       "      <td>0</td>\n",
       "      <td>crime</td>\n",
       "    </tr>\n",
       "    <tr>\n",
       "      <th>1</th>\n",
       "      <td>1</td>\n",
       "      <td>drama</td>\n",
       "    </tr>\n",
       "    <tr>\n",
       "      <th>2</th>\n",
       "      <td>2</td>\n",
       "      <td>drama</td>\n",
       "    </tr>\n",
       "    <tr>\n",
       "      <th>3</th>\n",
       "      <td>3</td>\n",
       "      <td>drama</td>\n",
       "    </tr>\n",
       "    <tr>\n",
       "      <th>4</th>\n",
       "      <td>4</td>\n",
       "      <td>action</td>\n",
       "    </tr>\n",
       "  </tbody>\n",
       "</table>\n",
       "</div>"
      ],
      "text/plain": [
       "   id  genres\n",
       "0   0   crime\n",
       "1   1   drama\n",
       "2   2   drama\n",
       "3   3   drama\n",
       "4   4  action"
      ]
     },
     "execution_count": 140,
     "metadata": {},
     "output_type": "execute_result"
    }
   ],
   "source": [
    "result_result.head()"
   ]
  },
  {
   "cell_type": "code",
   "execution_count": 141,
   "metadata": {},
   "outputs": [],
   "source": [
    "result_result.to_csv ('result1.csv', index = False, header=True)\n"
   ]
  },
  {
   "cell_type": "code",
   "execution_count": null,
   "metadata": {},
   "outputs": [],
   "source": []
  }
 ],
 "metadata": {
  "kernelspec": {
   "display_name": "Python 3",
   "language": "python",
   "name": "python3"
  },
  "language_info": {
   "codemirror_mode": {
    "name": "ipython",
    "version": 3
   },
   "file_extension": ".py",
   "mimetype": "text/x-python",
   "name": "python",
   "nbconvert_exporter": "python",
   "pygments_lexer": "ipython3",
   "version": "3.6.10"
  }
 },
 "nbformat": 4,
 "nbformat_minor": 4
}
