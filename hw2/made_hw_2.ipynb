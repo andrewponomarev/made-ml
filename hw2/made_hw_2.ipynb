{
 "cells": [
  {
   "cell_type": "markdown",
   "metadata": {},
   "source": [
    "# MADE HW-2\n",
    "## What genres has a movie with a provided dialogue?\n",
    "[Kaggle competition](https://www.kaggle.com/c/made-hw-2/data)\n"
   ]
  },
  {
   "cell_type": "markdown",
   "metadata": {},
   "source": [
    "### Outline <a name = 'outline'></a>\n",
    "* [Data reading](#data) \n",
    "* [Using cross validation](#cv)"
   ]
  },
  {
   "cell_type": "code",
   "execution_count": 100,
   "metadata": {},
   "outputs": [],
   "source": [
    "import numpy as np\n",
    "import pandas as pd\n",
    "from sklearn.feature_extraction.text import CountVectorizer\n",
    "from sklearn.multiclass import OneVsRestClassifier\n",
    "from sklearn.linear_model import LogisticRegression\n",
    "from sklearn import pipeline, model_selection, preprocessing, metrics"
   ]
  },
  {
   "cell_type": "markdown",
   "metadata": {},
   "source": [
    "### Data Reading <a name = 'data'></a>"
   ]
  },
  {
   "cell_type": "code",
   "execution_count": 101,
   "metadata": {},
   "outputs": [],
   "source": [
    "train = pd.read_csv(\"train.csv\")\n",
    "test = pd.read_csv(\"test.csv\")"
   ]
  },
  {
   "cell_type": "code",
   "execution_count": 102,
   "metadata": {},
   "outputs": [
    {
     "data": {
      "text/html": [
       "<div>\n",
       "<style scoped>\n",
       "    .dataframe tbody tr th:only-of-type {\n",
       "        vertical-align: middle;\n",
       "    }\n",
       "\n",
       "    .dataframe tbody tr th {\n",
       "        vertical-align: top;\n",
       "    }\n",
       "\n",
       "    .dataframe thead th {\n",
       "        text-align: right;\n",
       "    }\n",
       "</style>\n",
       "<table border=\"1\" class=\"dataframe\">\n",
       "  <thead>\n",
       "    <tr style=\"text-align: right;\">\n",
       "      <th></th>\n",
       "      <th>id</th>\n",
       "      <th>dialogue</th>\n",
       "    </tr>\n",
       "  </thead>\n",
       "  <tbody>\n",
       "    <tr>\n",
       "      <th>0</th>\n",
       "      <td>0</td>\n",
       "      <td>Boy! Did you see the way Mama whopped that dep...</td>\n",
       "    </tr>\n",
       "    <tr>\n",
       "      <th>1</th>\n",
       "      <td>1</td>\n",
       "      <td>Gordon, the insurance people are balking on th...</td>\n",
       "    </tr>\n",
       "    <tr>\n",
       "      <th>2</th>\n",
       "      <td>2</td>\n",
       "      <td>Very fancy.  Did you design the bottle? &lt;BR&gt; W...</td>\n",
       "    </tr>\n",
       "    <tr>\n",
       "      <th>3</th>\n",
       "      <td>3</td>\n",
       "      <td>It makes me so mad. Steven Schwimmer ready to ...</td>\n",
       "    </tr>\n",
       "    <tr>\n",
       "      <th>4</th>\n",
       "      <td>4</td>\n",
       "      <td>Something ought to loosen him up ... how comes...</td>\n",
       "    </tr>\n",
       "  </tbody>\n",
       "</table>\n",
       "</div>"
      ],
      "text/plain": [
       "   id                                           dialogue\n",
       "0   0  Boy! Did you see the way Mama whopped that dep...\n",
       "1   1  Gordon, the insurance people are balking on th...\n",
       "2   2  Very fancy.  Did you design the bottle? <BR> W...\n",
       "3   3  It makes me so mad. Steven Schwimmer ready to ...\n",
       "4   4  Something ought to loosen him up ... how comes..."
      ]
     },
     "execution_count": 102,
     "metadata": {},
     "output_type": "execute_result"
    }
   ],
   "source": [
    "test.head()"
   ]
  },
  {
   "cell_type": "code",
   "execution_count": 103,
   "metadata": {},
   "outputs": [],
   "source": [
    "train = train.drop(['id', 'movie'], axis=1)"
   ]
  },
  {
   "cell_type": "code",
   "execution_count": 104,
   "metadata": {},
   "outputs": [],
   "source": [
    "train['genre_list'] = train['genres'].map(lambda x : x[1:-1].split(', '))"
   ]
  },
  {
   "cell_type": "code",
   "execution_count": 105,
   "metadata": {},
   "outputs": [],
   "source": [
    "genres = set()\n",
    "for x in train['genre_list']:\n",
    "    genres |= set(x)"
   ]
  },
  {
   "cell_type": "code",
   "execution_count": 106,
   "metadata": {},
   "outputs": [],
   "source": [
    "train_full = train.drop('genre_list', 1).join(train.genre_list.str.join('|').str.get_dummies())"
   ]
  },
  {
   "cell_type": "code",
   "execution_count": 107,
   "metadata": {},
   "outputs": [],
   "source": [
    "#create 2-step pipeline: vectorizer and reclassifier\n",
    "pipe = pipeline.Pipeline(steps = [('vectorizer', CountVectorizer(min_df = 100, stop_words={'english'})), \n",
    "                                  ('classifier', OneVsRestClassifier(LogisticRegression(solver='sag'), n_jobs=1))])"
   ]
  },
  {
   "cell_type": "code",
   "execution_count": 108,
   "metadata": {},
   "outputs": [],
   "source": [
    "train_train, train_test = model_selection.train_test_split(train_full, random_state=42, test_size=0.33, shuffle=True)"
   ]
  },
  {
   "cell_type": "code",
   "execution_count": null,
   "metadata": {},
   "outputs": [],
   "source": []
  },
  {
   "cell_type": "code",
   "execution_count": 130,
   "metadata": {},
   "outputs": [
    {
     "name": "stdout",
     "output_type": "stream",
     "text": [
      "... Processing u'horror'\n"
     ]
    },
    {
     "name": "stderr",
     "output_type": "stream",
     "text": [
      "/Users/ponomarevandrew/anaconda3/lib/python3.6/site-packages/sklearn/linear_model/sag.py:326: ConvergenceWarning: The max_iter was reached which means the coef_ did not converge\n",
      "  \"the coef_ did not converge\", ConvergenceWarning)\n"
     ]
    },
    {
     "name": "stdout",
     "output_type": "stream",
     "text": [
      "Test accuracy is 0.9672346002621232\n",
      "... Processing u'comedy'\n"
     ]
    },
    {
     "name": "stderr",
     "output_type": "stream",
     "text": [
      "/Users/ponomarevandrew/anaconda3/lib/python3.6/site-packages/sklearn/linear_model/sag.py:326: ConvergenceWarning: The max_iter was reached which means the coef_ did not converge\n",
      "  \"the coef_ did not converge\", ConvergenceWarning)\n"
     ]
    },
    {
     "name": "stdout",
     "output_type": "stream",
     "text": [
      "Test accuracy is 0.8486238532110092\n",
      "... Processing u'mystery'\n"
     ]
    },
    {
     "name": "stderr",
     "output_type": "stream",
     "text": [
      "/Users/ponomarevandrew/anaconda3/lib/python3.6/site-packages/sklearn/linear_model/sag.py:326: ConvergenceWarning: The max_iter was reached which means the coef_ did not converge\n",
      "  \"the coef_ did not converge\", ConvergenceWarning)\n"
     ]
    },
    {
     "name": "stdout",
     "output_type": "stream",
     "text": [
      "Test accuracy is 0.9284895150720839\n",
      "... Processing u'adventure'\n"
     ]
    },
    {
     "name": "stderr",
     "output_type": "stream",
     "text": [
      "/Users/ponomarevandrew/anaconda3/lib/python3.6/site-packages/sklearn/linear_model/sag.py:326: ConvergenceWarning: The max_iter was reached which means the coef_ did not converge\n",
      "  \"the coef_ did not converge\", ConvergenceWarning)\n"
     ]
    },
    {
     "name": "stdout",
     "output_type": "stream",
     "text": [
      "Test accuracy is 0.9291448230668414\n",
      "... Processing u'family'\n"
     ]
    },
    {
     "name": "stderr",
     "output_type": "stream",
     "text": [
      "/Users/ponomarevandrew/anaconda3/lib/python3.6/site-packages/sklearn/linear_model/sag.py:326: ConvergenceWarning: The max_iter was reached which means the coef_ did not converge\n",
      "  \"the coef_ did not converge\", ConvergenceWarning)\n"
     ]
    },
    {
     "name": "stdout",
     "output_type": "stream",
     "text": [
      "Test accuracy is 0.9961500655307994\n",
      "... Processing u'history'\n"
     ]
    },
    {
     "name": "stderr",
     "output_type": "stream",
     "text": [
      "/Users/ponomarevandrew/anaconda3/lib/python3.6/site-packages/sklearn/linear_model/sag.py:326: ConvergenceWarning: The max_iter was reached which means the coef_ did not converge\n",
      "  \"the coef_ did not converge\", ConvergenceWarning)\n"
     ]
    },
    {
     "name": "stdout",
     "output_type": "stream",
     "text": [
      "Test accuracy is 0.9945117955439057\n",
      "... Processing u'fantasy'\n"
     ]
    },
    {
     "name": "stderr",
     "output_type": "stream",
     "text": [
      "/Users/ponomarevandrew/anaconda3/lib/python3.6/site-packages/sklearn/linear_model/sag.py:326: ConvergenceWarning: The max_iter was reached which means the coef_ did not converge\n",
      "  \"the coef_ did not converge\", ConvergenceWarning)\n"
     ]
    },
    {
     "name": "stdout",
     "output_type": "stream",
     "text": [
      "Test accuracy is 0.9751802096985583\n",
      "... Processing u'war'\n"
     ]
    },
    {
     "name": "stderr",
     "output_type": "stream",
     "text": [
      "/Users/ponomarevandrew/anaconda3/lib/python3.6/site-packages/sklearn/linear_model/sag.py:326: ConvergenceWarning: The max_iter was reached which means the coef_ did not converge\n",
      "  \"the coef_ did not converge\", ConvergenceWarning)\n"
     ]
    },
    {
     "name": "stdout",
     "output_type": "stream",
     "text": [
      "Test accuracy is 0.9862385321100917\n",
      "... Processing u'sci-fi'\n"
     ]
    },
    {
     "name": "stderr",
     "output_type": "stream",
     "text": [
      "/Users/ponomarevandrew/anaconda3/lib/python3.6/site-packages/sklearn/linear_model/sag.py:326: ConvergenceWarning: The max_iter was reached which means the coef_ did not converge\n",
      "  \"the coef_ did not converge\", ConvergenceWarning)\n"
     ]
    },
    {
     "name": "stdout",
     "output_type": "stream",
     "text": [
      "Test accuracy is 0.9252948885976409\n",
      "... Processing u'sport'\n"
     ]
    },
    {
     "name": "stderr",
     "output_type": "stream",
     "text": [
      "/Users/ponomarevandrew/anaconda3/lib/python3.6/site-packages/sklearn/linear_model/sag.py:326: ConvergenceWarning: The max_iter was reached which means the coef_ did not converge\n",
      "  \"the coef_ did not converge\", ConvergenceWarning)\n"
     ]
    },
    {
     "name": "stdout",
     "output_type": "stream",
     "text": [
      "Test accuracy is 0.9952490170380078\n",
      "... Processing u'western'\n"
     ]
    },
    {
     "name": "stderr",
     "output_type": "stream",
     "text": [
      "/Users/ponomarevandrew/anaconda3/lib/python3.6/site-packages/sklearn/linear_model/sag.py:326: ConvergenceWarning: The max_iter was reached which means the coef_ did not converge\n",
      "  \"the coef_ did not converge\", ConvergenceWarning)\n"
     ]
    },
    {
     "name": "stdout",
     "output_type": "stream",
     "text": [
      "Test accuracy is 0.9956585845347313\n",
      "... Processing u'animation'\n"
     ]
    },
    {
     "name": "stderr",
     "output_type": "stream",
     "text": [
      "/Users/ponomarevandrew/anaconda3/lib/python3.6/site-packages/sklearn/linear_model/sag.py:326: ConvergenceWarning: The max_iter was reached which means the coef_ did not converge\n",
      "  \"the coef_ did not converge\", ConvergenceWarning)\n"
     ]
    },
    {
     "name": "stdout",
     "output_type": "stream",
     "text": [
      "Test accuracy is 0.9986074705111402\n",
      "... Processing u'biography'\n"
     ]
    },
    {
     "name": "stderr",
     "output_type": "stream",
     "text": [
      "/Users/ponomarevandrew/anaconda3/lib/python3.6/site-packages/sklearn/linear_model/sag.py:326: ConvergenceWarning: The max_iter was reached which means the coef_ did not converge\n",
      "  \"the coef_ did not converge\", ConvergenceWarning)\n"
     ]
    },
    {
     "name": "stdout",
     "output_type": "stream",
     "text": [
      "Test accuracy is 0.9770642201834863\n",
      "... Processing u'thriller'\n"
     ]
    },
    {
     "name": "stderr",
     "output_type": "stream",
     "text": [
      "/Users/ponomarevandrew/anaconda3/lib/python3.6/site-packages/sklearn/linear_model/sag.py:326: ConvergenceWarning: The max_iter was reached which means the coef_ did not converge\n",
      "  \"the coef_ did not converge\", ConvergenceWarning)\n"
     ]
    },
    {
     "name": "stdout",
     "output_type": "stream",
     "text": [
      "Test accuracy is 0.7805537352555701\n",
      "... Processing u'action'\n"
     ]
    },
    {
     "name": "stderr",
     "output_type": "stream",
     "text": [
      "/Users/ponomarevandrew/anaconda3/lib/python3.6/site-packages/sklearn/linear_model/sag.py:326: ConvergenceWarning: The max_iter was reached which means the coef_ did not converge\n",
      "  \"the coef_ did not converge\", ConvergenceWarning)\n"
     ]
    },
    {
     "name": "stdout",
     "output_type": "stream",
     "text": [
      "Test accuracy is 0.8529652686762779\n",
      "... Processing u'music'\n"
     ]
    },
    {
     "name": "stderr",
     "output_type": "stream",
     "text": [
      "/Users/ponomarevandrew/anaconda3/lib/python3.6/site-packages/sklearn/linear_model/sag.py:326: ConvergenceWarning: The max_iter was reached which means the coef_ did not converge\n",
      "  \"the coef_ did not converge\", ConvergenceWarning)\n"
     ]
    },
    {
     "name": "stdout",
     "output_type": "stream",
     "text": [
      "Test accuracy is 0.9920543905635649\n",
      "... Processing u'musical'\n"
     ]
    },
    {
     "name": "stderr",
     "output_type": "stream",
     "text": [
      "/Users/ponomarevandrew/anaconda3/lib/python3.6/site-packages/sklearn/linear_model/sag.py:326: ConvergenceWarning: The max_iter was reached which means the coef_ did not converge\n",
      "  \"the coef_ did not converge\", ConvergenceWarning)\n"
     ]
    },
    {
     "name": "stdout",
     "output_type": "stream",
     "text": [
      "Test accuracy is 0.9988532110091743\n",
      "... Processing u'crime'\n"
     ]
    },
    {
     "name": "stderr",
     "output_type": "stream",
     "text": [
      "/Users/ponomarevandrew/anaconda3/lib/python3.6/site-packages/sklearn/linear_model/sag.py:326: ConvergenceWarning: The max_iter was reached which means the coef_ did not converge\n",
      "  \"the coef_ did not converge\", ConvergenceWarning)\n"
     ]
    },
    {
     "name": "stdout",
     "output_type": "stream",
     "text": [
      "Test accuracy is 0.8618119266055045\n",
      "... Processing u'romance'\n"
     ]
    },
    {
     "name": "stderr",
     "output_type": "stream",
     "text": [
      "/Users/ponomarevandrew/anaconda3/lib/python3.6/site-packages/sklearn/linear_model/sag.py:326: ConvergenceWarning: The max_iter was reached which means the coef_ did not converge\n",
      "  \"the coef_ did not converge\", ConvergenceWarning)\n"
     ]
    },
    {
     "name": "stdout",
     "output_type": "stream",
     "text": [
      "Test accuracy is 0.8592726081258192\n",
      "... Processing u'drama'\n"
     ]
    },
    {
     "name": "stderr",
     "output_type": "stream",
     "text": [
      "/Users/ponomarevandrew/anaconda3/lib/python3.6/site-packages/sklearn/linear_model/sag.py:326: ConvergenceWarning: The max_iter was reached which means the coef_ did not converge\n",
      "  \"the coef_ did not converge\", ConvergenceWarning)\n"
     ]
    },
    {
     "name": "stdout",
     "output_type": "stream",
     "text": [
      "Test accuracy is 0.7848951507208388\n"
     ]
    }
   ],
   "source": [
    "for g in genres:\n",
    "    print('... Processing {}'.format(g))\n",
    "    # train the model using X_dtm & y\n",
    "    pipe.fit(train_train['dialogue'], train_train[g])\n",
    "    # compute the testing accuracy\n",
    "    prediction = pipe.predict(train_test['dialogue'])\n",
    "    print('Test accuracy is {}'.format(metrics.accuracy_score(train_test[g], prediction)))"
   ]
  },
  {
   "cell_type": "code",
   "execution_count": 133,
   "metadata": {},
   "outputs": [
    {
     "name": "stdout",
     "output_type": "stream",
     "text": [
      "... Processing u'horror'\n"
     ]
    },
    {
     "name": "stderr",
     "output_type": "stream",
     "text": [
      "/Users/ponomarevandrew/anaconda3/lib/python3.6/site-packages/sklearn/linear_model/sag.py:326: ConvergenceWarning: The max_iter was reached which means the coef_ did not converge\n",
      "  \"the coef_ did not converge\", ConvergenceWarning)\n"
     ]
    },
    {
     "name": "stdout",
     "output_type": "stream",
     "text": [
      "... Processing u'comedy'\n"
     ]
    },
    {
     "name": "stderr",
     "output_type": "stream",
     "text": [
      "/Users/ponomarevandrew/anaconda3/lib/python3.6/site-packages/sklearn/linear_model/sag.py:326: ConvergenceWarning: The max_iter was reached which means the coef_ did not converge\n",
      "  \"the coef_ did not converge\", ConvergenceWarning)\n"
     ]
    },
    {
     "name": "stdout",
     "output_type": "stream",
     "text": [
      "... Processing u'mystery'\n"
     ]
    },
    {
     "name": "stderr",
     "output_type": "stream",
     "text": [
      "/Users/ponomarevandrew/anaconda3/lib/python3.6/site-packages/sklearn/linear_model/sag.py:326: ConvergenceWarning: The max_iter was reached which means the coef_ did not converge\n",
      "  \"the coef_ did not converge\", ConvergenceWarning)\n"
     ]
    },
    {
     "name": "stdout",
     "output_type": "stream",
     "text": [
      "... Processing u'adventure'\n"
     ]
    },
    {
     "name": "stderr",
     "output_type": "stream",
     "text": [
      "/Users/ponomarevandrew/anaconda3/lib/python3.6/site-packages/sklearn/linear_model/sag.py:326: ConvergenceWarning: The max_iter was reached which means the coef_ did not converge\n",
      "  \"the coef_ did not converge\", ConvergenceWarning)\n"
     ]
    },
    {
     "name": "stdout",
     "output_type": "stream",
     "text": [
      "... Processing u'family'\n"
     ]
    },
    {
     "name": "stderr",
     "output_type": "stream",
     "text": [
      "/Users/ponomarevandrew/anaconda3/lib/python3.6/site-packages/sklearn/linear_model/sag.py:326: ConvergenceWarning: The max_iter was reached which means the coef_ did not converge\n",
      "  \"the coef_ did not converge\", ConvergenceWarning)\n"
     ]
    },
    {
     "name": "stdout",
     "output_type": "stream",
     "text": [
      "... Processing u'history'\n"
     ]
    },
    {
     "name": "stderr",
     "output_type": "stream",
     "text": [
      "/Users/ponomarevandrew/anaconda3/lib/python3.6/site-packages/sklearn/linear_model/sag.py:326: ConvergenceWarning: The max_iter was reached which means the coef_ did not converge\n",
      "  \"the coef_ did not converge\", ConvergenceWarning)\n"
     ]
    },
    {
     "name": "stdout",
     "output_type": "stream",
     "text": [
      "... Processing u'fantasy'\n"
     ]
    },
    {
     "name": "stderr",
     "output_type": "stream",
     "text": [
      "/Users/ponomarevandrew/anaconda3/lib/python3.6/site-packages/sklearn/linear_model/sag.py:326: ConvergenceWarning: The max_iter was reached which means the coef_ did not converge\n",
      "  \"the coef_ did not converge\", ConvergenceWarning)\n"
     ]
    },
    {
     "name": "stdout",
     "output_type": "stream",
     "text": [
      "... Processing u'war'\n"
     ]
    },
    {
     "name": "stderr",
     "output_type": "stream",
     "text": [
      "/Users/ponomarevandrew/anaconda3/lib/python3.6/site-packages/sklearn/linear_model/sag.py:326: ConvergenceWarning: The max_iter was reached which means the coef_ did not converge\n",
      "  \"the coef_ did not converge\", ConvergenceWarning)\n"
     ]
    },
    {
     "name": "stdout",
     "output_type": "stream",
     "text": [
      "... Processing u'sci-fi'\n"
     ]
    },
    {
     "name": "stderr",
     "output_type": "stream",
     "text": [
      "/Users/ponomarevandrew/anaconda3/lib/python3.6/site-packages/sklearn/linear_model/sag.py:326: ConvergenceWarning: The max_iter was reached which means the coef_ did not converge\n",
      "  \"the coef_ did not converge\", ConvergenceWarning)\n"
     ]
    },
    {
     "name": "stdout",
     "output_type": "stream",
     "text": [
      "... Processing u'sport'\n"
     ]
    },
    {
     "name": "stderr",
     "output_type": "stream",
     "text": [
      "/Users/ponomarevandrew/anaconda3/lib/python3.6/site-packages/sklearn/linear_model/sag.py:326: ConvergenceWarning: The max_iter was reached which means the coef_ did not converge\n",
      "  \"the coef_ did not converge\", ConvergenceWarning)\n"
     ]
    },
    {
     "name": "stdout",
     "output_type": "stream",
     "text": [
      "... Processing u'western'\n"
     ]
    },
    {
     "name": "stderr",
     "output_type": "stream",
     "text": [
      "/Users/ponomarevandrew/anaconda3/lib/python3.6/site-packages/sklearn/linear_model/sag.py:326: ConvergenceWarning: The max_iter was reached which means the coef_ did not converge\n",
      "  \"the coef_ did not converge\", ConvergenceWarning)\n"
     ]
    },
    {
     "name": "stdout",
     "output_type": "stream",
     "text": [
      "... Processing u'animation'\n"
     ]
    },
    {
     "name": "stderr",
     "output_type": "stream",
     "text": [
      "/Users/ponomarevandrew/anaconda3/lib/python3.6/site-packages/sklearn/linear_model/sag.py:326: ConvergenceWarning: The max_iter was reached which means the coef_ did not converge\n",
      "  \"the coef_ did not converge\", ConvergenceWarning)\n"
     ]
    },
    {
     "name": "stdout",
     "output_type": "stream",
     "text": [
      "... Processing u'biography'\n"
     ]
    },
    {
     "name": "stderr",
     "output_type": "stream",
     "text": [
      "/Users/ponomarevandrew/anaconda3/lib/python3.6/site-packages/sklearn/linear_model/sag.py:326: ConvergenceWarning: The max_iter was reached which means the coef_ did not converge\n",
      "  \"the coef_ did not converge\", ConvergenceWarning)\n"
     ]
    },
    {
     "name": "stdout",
     "output_type": "stream",
     "text": [
      "... Processing u'thriller'\n"
     ]
    },
    {
     "name": "stderr",
     "output_type": "stream",
     "text": [
      "/Users/ponomarevandrew/anaconda3/lib/python3.6/site-packages/sklearn/linear_model/sag.py:326: ConvergenceWarning: The max_iter was reached which means the coef_ did not converge\n",
      "  \"the coef_ did not converge\", ConvergenceWarning)\n"
     ]
    },
    {
     "name": "stdout",
     "output_type": "stream",
     "text": [
      "... Processing u'action'\n"
     ]
    },
    {
     "name": "stderr",
     "output_type": "stream",
     "text": [
      "/Users/ponomarevandrew/anaconda3/lib/python3.6/site-packages/sklearn/linear_model/sag.py:326: ConvergenceWarning: The max_iter was reached which means the coef_ did not converge\n",
      "  \"the coef_ did not converge\", ConvergenceWarning)\n"
     ]
    },
    {
     "name": "stdout",
     "output_type": "stream",
     "text": [
      "... Processing u'music'\n"
     ]
    },
    {
     "name": "stderr",
     "output_type": "stream",
     "text": [
      "/Users/ponomarevandrew/anaconda3/lib/python3.6/site-packages/sklearn/linear_model/sag.py:326: ConvergenceWarning: The max_iter was reached which means the coef_ did not converge\n",
      "  \"the coef_ did not converge\", ConvergenceWarning)\n"
     ]
    },
    {
     "name": "stdout",
     "output_type": "stream",
     "text": [
      "... Processing u'musical'\n"
     ]
    },
    {
     "name": "stderr",
     "output_type": "stream",
     "text": [
      "/Users/ponomarevandrew/anaconda3/lib/python3.6/site-packages/sklearn/linear_model/sag.py:326: ConvergenceWarning: The max_iter was reached which means the coef_ did not converge\n",
      "  \"the coef_ did not converge\", ConvergenceWarning)\n"
     ]
    },
    {
     "name": "stdout",
     "output_type": "stream",
     "text": [
      "... Processing u'crime'\n"
     ]
    },
    {
     "name": "stderr",
     "output_type": "stream",
     "text": [
      "/Users/ponomarevandrew/anaconda3/lib/python3.6/site-packages/sklearn/linear_model/sag.py:326: ConvergenceWarning: The max_iter was reached which means the coef_ did not converge\n",
      "  \"the coef_ did not converge\", ConvergenceWarning)\n"
     ]
    },
    {
     "name": "stdout",
     "output_type": "stream",
     "text": [
      "... Processing u'romance'\n"
     ]
    },
    {
     "name": "stderr",
     "output_type": "stream",
     "text": [
      "/Users/ponomarevandrew/anaconda3/lib/python3.6/site-packages/sklearn/linear_model/sag.py:326: ConvergenceWarning: The max_iter was reached which means the coef_ did not converge\n",
      "  \"the coef_ did not converge\", ConvergenceWarning)\n"
     ]
    },
    {
     "name": "stdout",
     "output_type": "stream",
     "text": [
      "... Processing u'drama'\n"
     ]
    },
    {
     "name": "stderr",
     "output_type": "stream",
     "text": [
      "/Users/ponomarevandrew/anaconda3/lib/python3.6/site-packages/sklearn/linear_model/sag.py:326: ConvergenceWarning: The max_iter was reached which means the coef_ did not converge\n",
      "  \"the coef_ did not converge\", ConvergenceWarning)\n"
     ]
    }
   ],
   "source": [
    "result = test.copy()\n",
    "for g in genres:\n",
    "    print('... Processing {}'.format(g))\n",
    "    # train the model using X_dtm & y\n",
    "    pipe.fit(train_full['dialogue'], train_full[g])\n",
    "    # compute the testing accuracy\n",
    "    prediction = np.array([x[1] for x in pipe.predict_proba(test['dialogue'])])\n",
    "    result[g] = prediction.tolist()"
   ]
  },
  {
   "cell_type": "code",
   "execution_count": 134,
   "metadata": {},
   "outputs": [
    {
     "data": {
      "text/html": [
       "<div>\n",
       "<style scoped>\n",
       "    .dataframe tbody tr th:only-of-type {\n",
       "        vertical-align: middle;\n",
       "    }\n",
       "\n",
       "    .dataframe tbody tr th {\n",
       "        vertical-align: top;\n",
       "    }\n",
       "\n",
       "    .dataframe thead th {\n",
       "        text-align: right;\n",
       "    }\n",
       "</style>\n",
       "<table border=\"1\" class=\"dataframe\">\n",
       "  <thead>\n",
       "    <tr style=\"text-align: right;\">\n",
       "      <th></th>\n",
       "      <th>id</th>\n",
       "      <th>dialogue</th>\n",
       "      <th>u'horror'</th>\n",
       "      <th>u'comedy'</th>\n",
       "      <th>u'mystery'</th>\n",
       "      <th>u'adventure'</th>\n",
       "      <th>u'family'</th>\n",
       "      <th>u'history'</th>\n",
       "      <th>u'fantasy'</th>\n",
       "      <th>u'war'</th>\n",
       "      <th>...</th>\n",
       "      <th>u'western'</th>\n",
       "      <th>u'animation'</th>\n",
       "      <th>u'biography'</th>\n",
       "      <th>u'thriller'</th>\n",
       "      <th>u'action'</th>\n",
       "      <th>u'music'</th>\n",
       "      <th>u'musical'</th>\n",
       "      <th>u'crime'</th>\n",
       "      <th>u'romance'</th>\n",
       "      <th>u'drama'</th>\n",
       "    </tr>\n",
       "  </thead>\n",
       "  <tbody>\n",
       "    <tr>\n",
       "      <th>0</th>\n",
       "      <td>0</td>\n",
       "      <td>Boy! Did you see the way Mama whopped that dep...</td>\n",
       "      <td>0.084586</td>\n",
       "      <td>0.064037</td>\n",
       "      <td>0.081484</td>\n",
       "      <td>0.013718</td>\n",
       "      <td>1.025440e-02</td>\n",
       "      <td>0.007888</td>\n",
       "      <td>0.026657</td>\n",
       "      <td>0.015082</td>\n",
       "      <td>...</td>\n",
       "      <td>0.036913</td>\n",
       "      <td>1.768394e-03</td>\n",
       "      <td>0.010669</td>\n",
       "      <td>0.489727</td>\n",
       "      <td>0.088973</td>\n",
       "      <td>0.014999</td>\n",
       "      <td>3.241520e-03</td>\n",
       "      <td>0.745424</td>\n",
       "      <td>0.247159</td>\n",
       "      <td>0.524000</td>\n",
       "    </tr>\n",
       "    <tr>\n",
       "      <th>1</th>\n",
       "      <td>1</td>\n",
       "      <td>Gordon, the insurance people are balking on th...</td>\n",
       "      <td>0.025715</td>\n",
       "      <td>0.132819</td>\n",
       "      <td>0.104734</td>\n",
       "      <td>0.084721</td>\n",
       "      <td>2.430368e-03</td>\n",
       "      <td>0.018534</td>\n",
       "      <td>0.017670</td>\n",
       "      <td>0.043876</td>\n",
       "      <td>...</td>\n",
       "      <td>0.006179</td>\n",
       "      <td>6.267880e-04</td>\n",
       "      <td>0.113516</td>\n",
       "      <td>0.251663</td>\n",
       "      <td>0.159450</td>\n",
       "      <td>0.008384</td>\n",
       "      <td>8.646914e-04</td>\n",
       "      <td>0.103948</td>\n",
       "      <td>0.105419</td>\n",
       "      <td>0.912407</td>\n",
       "    </tr>\n",
       "    <tr>\n",
       "      <th>2</th>\n",
       "      <td>2</td>\n",
       "      <td>Very fancy.  Did you design the bottle? &lt;BR&gt; W...</td>\n",
       "      <td>0.000356</td>\n",
       "      <td>0.070334</td>\n",
       "      <td>0.009895</td>\n",
       "      <td>0.085341</td>\n",
       "      <td>6.979026e-06</td>\n",
       "      <td>0.000009</td>\n",
       "      <td>0.001123</td>\n",
       "      <td>0.003821</td>\n",
       "      <td>...</td>\n",
       "      <td>0.000019</td>\n",
       "      <td>7.751727e-08</td>\n",
       "      <td>0.001168</td>\n",
       "      <td>0.035053</td>\n",
       "      <td>0.119129</td>\n",
       "      <td>0.000030</td>\n",
       "      <td>2.100333e-08</td>\n",
       "      <td>0.013524</td>\n",
       "      <td>0.012336</td>\n",
       "      <td>0.886206</td>\n",
       "    </tr>\n",
       "    <tr>\n",
       "      <th>3</th>\n",
       "      <td>3</td>\n",
       "      <td>It makes me so mad. Steven Schwimmer ready to ...</td>\n",
       "      <td>0.007306</td>\n",
       "      <td>0.080126</td>\n",
       "      <td>0.003609</td>\n",
       "      <td>0.063049</td>\n",
       "      <td>3.098677e-07</td>\n",
       "      <td>0.000002</td>\n",
       "      <td>0.008068</td>\n",
       "      <td>0.002707</td>\n",
       "      <td>...</td>\n",
       "      <td>0.000006</td>\n",
       "      <td>5.231800e-08</td>\n",
       "      <td>0.005598</td>\n",
       "      <td>0.028033</td>\n",
       "      <td>0.153437</td>\n",
       "      <td>0.000167</td>\n",
       "      <td>1.208801e-07</td>\n",
       "      <td>0.052534</td>\n",
       "      <td>0.162434</td>\n",
       "      <td>0.906562</td>\n",
       "    </tr>\n",
       "    <tr>\n",
       "      <th>4</th>\n",
       "      <td>4</td>\n",
       "      <td>Something ought to loosen him up ... how comes...</td>\n",
       "      <td>0.200350</td>\n",
       "      <td>0.367231</td>\n",
       "      <td>0.272128</td>\n",
       "      <td>0.088615</td>\n",
       "      <td>4.623182e-03</td>\n",
       "      <td>0.030383</td>\n",
       "      <td>0.032167</td>\n",
       "      <td>0.035930</td>\n",
       "      <td>...</td>\n",
       "      <td>0.025432</td>\n",
       "      <td>6.648261e-03</td>\n",
       "      <td>0.031456</td>\n",
       "      <td>0.458860</td>\n",
       "      <td>0.469866</td>\n",
       "      <td>0.012826</td>\n",
       "      <td>1.227411e-02</td>\n",
       "      <td>0.213798</td>\n",
       "      <td>0.264209</td>\n",
       "      <td>0.235865</td>\n",
       "    </tr>\n",
       "  </tbody>\n",
       "</table>\n",
       "<p>5 rows × 22 columns</p>\n",
       "</div>"
      ],
      "text/plain": [
       "   id                                           dialogue  u'horror'  \\\n",
       "0   0  Boy! Did you see the way Mama whopped that dep...   0.084586   \n",
       "1   1  Gordon, the insurance people are balking on th...   0.025715   \n",
       "2   2  Very fancy.  Did you design the bottle? <BR> W...   0.000356   \n",
       "3   3  It makes me so mad. Steven Schwimmer ready to ...   0.007306   \n",
       "4   4  Something ought to loosen him up ... how comes...   0.200350   \n",
       "\n",
       "   u'comedy'  u'mystery'  u'adventure'     u'family'  u'history'  u'fantasy'  \\\n",
       "0   0.064037    0.081484      0.013718  1.025440e-02    0.007888    0.026657   \n",
       "1   0.132819    0.104734      0.084721  2.430368e-03    0.018534    0.017670   \n",
       "2   0.070334    0.009895      0.085341  6.979026e-06    0.000009    0.001123   \n",
       "3   0.080126    0.003609      0.063049  3.098677e-07    0.000002    0.008068   \n",
       "4   0.367231    0.272128      0.088615  4.623182e-03    0.030383    0.032167   \n",
       "\n",
       "     u'war'    ...     u'western'  u'animation'  u'biography'  u'thriller'  \\\n",
       "0  0.015082    ...       0.036913  1.768394e-03      0.010669     0.489727   \n",
       "1  0.043876    ...       0.006179  6.267880e-04      0.113516     0.251663   \n",
       "2  0.003821    ...       0.000019  7.751727e-08      0.001168     0.035053   \n",
       "3  0.002707    ...       0.000006  5.231800e-08      0.005598     0.028033   \n",
       "4  0.035930    ...       0.025432  6.648261e-03      0.031456     0.458860   \n",
       "\n",
       "   u'action'  u'music'    u'musical'  u'crime'  u'romance'  u'drama'  \n",
       "0   0.088973  0.014999  3.241520e-03  0.745424    0.247159  0.524000  \n",
       "1   0.159450  0.008384  8.646914e-04  0.103948    0.105419  0.912407  \n",
       "2   0.119129  0.000030  2.100333e-08  0.013524    0.012336  0.886206  \n",
       "3   0.153437  0.000167  1.208801e-07  0.052534    0.162434  0.906562  \n",
       "4   0.469866  0.012826  1.227411e-02  0.213798    0.264209  0.235865  \n",
       "\n",
       "[5 rows x 22 columns]"
      ]
     },
     "execution_count": 134,
     "metadata": {},
     "output_type": "execute_result"
    }
   ],
   "source": [
    "result.head()"
   ]
  },
  {
   "cell_type": "code",
   "execution_count": 135,
   "metadata": {},
   "outputs": [],
   "source": [
    "result['answer'] = result.drop(['id', 'dialogue'], axis=1).idxmax(axis=1)"
   ]
  },
  {
   "cell_type": "code",
   "execution_count": 136,
   "metadata": {},
   "outputs": [
    {
     "data": {
      "text/html": [
       "<div>\n",
       "<style scoped>\n",
       "    .dataframe tbody tr th:only-of-type {\n",
       "        vertical-align: middle;\n",
       "    }\n",
       "\n",
       "    .dataframe tbody tr th {\n",
       "        vertical-align: top;\n",
       "    }\n",
       "\n",
       "    .dataframe thead th {\n",
       "        text-align: right;\n",
       "    }\n",
       "</style>\n",
       "<table border=\"1\" class=\"dataframe\">\n",
       "  <thead>\n",
       "    <tr style=\"text-align: right;\">\n",
       "      <th></th>\n",
       "      <th>id</th>\n",
       "      <th>dialogue</th>\n",
       "      <th>u'horror'</th>\n",
       "      <th>u'comedy'</th>\n",
       "      <th>u'mystery'</th>\n",
       "      <th>u'adventure'</th>\n",
       "      <th>u'family'</th>\n",
       "      <th>u'history'</th>\n",
       "      <th>u'fantasy'</th>\n",
       "      <th>u'war'</th>\n",
       "      <th>...</th>\n",
       "      <th>u'animation'</th>\n",
       "      <th>u'biography'</th>\n",
       "      <th>u'thriller'</th>\n",
       "      <th>u'action'</th>\n",
       "      <th>u'music'</th>\n",
       "      <th>u'musical'</th>\n",
       "      <th>u'crime'</th>\n",
       "      <th>u'romance'</th>\n",
       "      <th>u'drama'</th>\n",
       "      <th>answer</th>\n",
       "    </tr>\n",
       "  </thead>\n",
       "  <tbody>\n",
       "    <tr>\n",
       "      <th>0</th>\n",
       "      <td>0</td>\n",
       "      <td>Boy! Did you see the way Mama whopped that dep...</td>\n",
       "      <td>0.084586</td>\n",
       "      <td>0.064037</td>\n",
       "      <td>0.081484</td>\n",
       "      <td>0.013718</td>\n",
       "      <td>1.025440e-02</td>\n",
       "      <td>0.007888</td>\n",
       "      <td>0.026657</td>\n",
       "      <td>0.015082</td>\n",
       "      <td>...</td>\n",
       "      <td>1.768394e-03</td>\n",
       "      <td>0.010669</td>\n",
       "      <td>0.489727</td>\n",
       "      <td>0.088973</td>\n",
       "      <td>0.014999</td>\n",
       "      <td>3.241520e-03</td>\n",
       "      <td>0.745424</td>\n",
       "      <td>0.247159</td>\n",
       "      <td>0.524000</td>\n",
       "      <td>u'crime'</td>\n",
       "    </tr>\n",
       "    <tr>\n",
       "      <th>1</th>\n",
       "      <td>1</td>\n",
       "      <td>Gordon, the insurance people are balking on th...</td>\n",
       "      <td>0.025715</td>\n",
       "      <td>0.132819</td>\n",
       "      <td>0.104734</td>\n",
       "      <td>0.084721</td>\n",
       "      <td>2.430368e-03</td>\n",
       "      <td>0.018534</td>\n",
       "      <td>0.017670</td>\n",
       "      <td>0.043876</td>\n",
       "      <td>...</td>\n",
       "      <td>6.267880e-04</td>\n",
       "      <td>0.113516</td>\n",
       "      <td>0.251663</td>\n",
       "      <td>0.159450</td>\n",
       "      <td>0.008384</td>\n",
       "      <td>8.646914e-04</td>\n",
       "      <td>0.103948</td>\n",
       "      <td>0.105419</td>\n",
       "      <td>0.912407</td>\n",
       "      <td>u'drama'</td>\n",
       "    </tr>\n",
       "    <tr>\n",
       "      <th>2</th>\n",
       "      <td>2</td>\n",
       "      <td>Very fancy.  Did you design the bottle? &lt;BR&gt; W...</td>\n",
       "      <td>0.000356</td>\n",
       "      <td>0.070334</td>\n",
       "      <td>0.009895</td>\n",
       "      <td>0.085341</td>\n",
       "      <td>6.979026e-06</td>\n",
       "      <td>0.000009</td>\n",
       "      <td>0.001123</td>\n",
       "      <td>0.003821</td>\n",
       "      <td>...</td>\n",
       "      <td>7.751727e-08</td>\n",
       "      <td>0.001168</td>\n",
       "      <td>0.035053</td>\n",
       "      <td>0.119129</td>\n",
       "      <td>0.000030</td>\n",
       "      <td>2.100333e-08</td>\n",
       "      <td>0.013524</td>\n",
       "      <td>0.012336</td>\n",
       "      <td>0.886206</td>\n",
       "      <td>u'drama'</td>\n",
       "    </tr>\n",
       "    <tr>\n",
       "      <th>3</th>\n",
       "      <td>3</td>\n",
       "      <td>It makes me so mad. Steven Schwimmer ready to ...</td>\n",
       "      <td>0.007306</td>\n",
       "      <td>0.080126</td>\n",
       "      <td>0.003609</td>\n",
       "      <td>0.063049</td>\n",
       "      <td>3.098677e-07</td>\n",
       "      <td>0.000002</td>\n",
       "      <td>0.008068</td>\n",
       "      <td>0.002707</td>\n",
       "      <td>...</td>\n",
       "      <td>5.231800e-08</td>\n",
       "      <td>0.005598</td>\n",
       "      <td>0.028033</td>\n",
       "      <td>0.153437</td>\n",
       "      <td>0.000167</td>\n",
       "      <td>1.208801e-07</td>\n",
       "      <td>0.052534</td>\n",
       "      <td>0.162434</td>\n",
       "      <td>0.906562</td>\n",
       "      <td>u'drama'</td>\n",
       "    </tr>\n",
       "    <tr>\n",
       "      <th>4</th>\n",
       "      <td>4</td>\n",
       "      <td>Something ought to loosen him up ... how comes...</td>\n",
       "      <td>0.200350</td>\n",
       "      <td>0.367231</td>\n",
       "      <td>0.272128</td>\n",
       "      <td>0.088615</td>\n",
       "      <td>4.623182e-03</td>\n",
       "      <td>0.030383</td>\n",
       "      <td>0.032167</td>\n",
       "      <td>0.035930</td>\n",
       "      <td>...</td>\n",
       "      <td>6.648261e-03</td>\n",
       "      <td>0.031456</td>\n",
       "      <td>0.458860</td>\n",
       "      <td>0.469866</td>\n",
       "      <td>0.012826</td>\n",
       "      <td>1.227411e-02</td>\n",
       "      <td>0.213798</td>\n",
       "      <td>0.264209</td>\n",
       "      <td>0.235865</td>\n",
       "      <td>u'action'</td>\n",
       "    </tr>\n",
       "  </tbody>\n",
       "</table>\n",
       "<p>5 rows × 23 columns</p>\n",
       "</div>"
      ],
      "text/plain": [
       "   id                                           dialogue  u'horror'  \\\n",
       "0   0  Boy! Did you see the way Mama whopped that dep...   0.084586   \n",
       "1   1  Gordon, the insurance people are balking on th...   0.025715   \n",
       "2   2  Very fancy.  Did you design the bottle? <BR> W...   0.000356   \n",
       "3   3  It makes me so mad. Steven Schwimmer ready to ...   0.007306   \n",
       "4   4  Something ought to loosen him up ... how comes...   0.200350   \n",
       "\n",
       "   u'comedy'  u'mystery'  u'adventure'     u'family'  u'history'  u'fantasy'  \\\n",
       "0   0.064037    0.081484      0.013718  1.025440e-02    0.007888    0.026657   \n",
       "1   0.132819    0.104734      0.084721  2.430368e-03    0.018534    0.017670   \n",
       "2   0.070334    0.009895      0.085341  6.979026e-06    0.000009    0.001123   \n",
       "3   0.080126    0.003609      0.063049  3.098677e-07    0.000002    0.008068   \n",
       "4   0.367231    0.272128      0.088615  4.623182e-03    0.030383    0.032167   \n",
       "\n",
       "     u'war'    ...      u'animation'  u'biography'  u'thriller'  u'action'  \\\n",
       "0  0.015082    ...      1.768394e-03      0.010669     0.489727   0.088973   \n",
       "1  0.043876    ...      6.267880e-04      0.113516     0.251663   0.159450   \n",
       "2  0.003821    ...      7.751727e-08      0.001168     0.035053   0.119129   \n",
       "3  0.002707    ...      5.231800e-08      0.005598     0.028033   0.153437   \n",
       "4  0.035930    ...      6.648261e-03      0.031456     0.458860   0.469866   \n",
       "\n",
       "   u'music'    u'musical'  u'crime'  u'romance'  u'drama'     answer  \n",
       "0  0.014999  3.241520e-03  0.745424    0.247159  0.524000   u'crime'  \n",
       "1  0.008384  8.646914e-04  0.103948    0.105419  0.912407   u'drama'  \n",
       "2  0.000030  2.100333e-08  0.013524    0.012336  0.886206   u'drama'  \n",
       "3  0.000167  1.208801e-07  0.052534    0.162434  0.906562   u'drama'  \n",
       "4  0.012826  1.227411e-02  0.213798    0.264209  0.235865  u'action'  \n",
       "\n",
       "[5 rows x 23 columns]"
      ]
     },
     "execution_count": 136,
     "metadata": {},
     "output_type": "execute_result"
    }
   ],
   "source": [
    "result.head()"
   ]
  },
  {
   "cell_type": "code",
   "execution_count": 137,
   "metadata": {},
   "outputs": [],
   "source": [
    "result['answer'] = result['answer'].map(lambda x : x[2:-1])"
   ]
  },
  {
   "cell_type": "code",
   "execution_count": 138,
   "metadata": {},
   "outputs": [],
   "source": [
    "result_result = result[['id','answer']]"
   ]
  },
  {
   "cell_type": "code",
   "execution_count": 139,
   "metadata": {},
   "outputs": [],
   "source": [
    "result_result = result_result.rename(columns={\"answer\": \"genres\"})"
   ]
  },
  {
   "cell_type": "code",
   "execution_count": 140,
   "metadata": {},
   "outputs": [
    {
     "data": {
      "text/html": [
       "<div>\n",
       "<style scoped>\n",
       "    .dataframe tbody tr th:only-of-type {\n",
       "        vertical-align: middle;\n",
       "    }\n",
       "\n",
       "    .dataframe tbody tr th {\n",
       "        vertical-align: top;\n",
       "    }\n",
       "\n",
       "    .dataframe thead th {\n",
       "        text-align: right;\n",
       "    }\n",
       "</style>\n",
       "<table border=\"1\" class=\"dataframe\">\n",
       "  <thead>\n",
       "    <tr style=\"text-align: right;\">\n",
       "      <th></th>\n",
       "      <th>id</th>\n",
       "      <th>genres</th>\n",
       "    </tr>\n",
       "  </thead>\n",
       "  <tbody>\n",
       "    <tr>\n",
       "      <th>0</th>\n",
       "      <td>0</td>\n",
       "      <td>crime</td>\n",
       "    </tr>\n",
       "    <tr>\n",
       "      <th>1</th>\n",
       "      <td>1</td>\n",
       "      <td>drama</td>\n",
       "    </tr>\n",
       "    <tr>\n",
       "      <th>2</th>\n",
       "      <td>2</td>\n",
       "      <td>drama</td>\n",
       "    </tr>\n",
       "    <tr>\n",
       "      <th>3</th>\n",
       "      <td>3</td>\n",
       "      <td>drama</td>\n",
       "    </tr>\n",
       "    <tr>\n",
       "      <th>4</th>\n",
       "      <td>4</td>\n",
       "      <td>action</td>\n",
       "    </tr>\n",
       "  </tbody>\n",
       "</table>\n",
       "</div>"
      ],
      "text/plain": [
       "   id  genres\n",
       "0   0   crime\n",
       "1   1   drama\n",
       "2   2   drama\n",
       "3   3   drama\n",
       "4   4  action"
      ]
     },
     "execution_count": 140,
     "metadata": {},
     "output_type": "execute_result"
    }
   ],
   "source": [
    "result_result.head()"
   ]
  },
  {
   "cell_type": "code",
   "execution_count": 141,
   "metadata": {},
   "outputs": [],
   "source": [
    "result_result.to_csv ('result1.csv', index = False, header=True)\n"
   ]
  },
  {
   "cell_type": "markdown",
   "metadata": {},
   "source": [
    "### Using Cross validation <a name = 'cv'></a>"
   ]
  },
  {
   "cell_type": "code",
   "execution_count": null,
   "metadata": {},
   "outputs": [],
   "source": []
  },
  {
   "cell_type": "code",
   "execution_count": 109,
   "metadata": {},
   "outputs": [],
   "source": [
    "train_data, validation_data = model_selection.train_test_split(train_full, test_size = 0.25, random_state = 1)"
   ]
  },
  {
   "cell_type": "code",
   "execution_count": 110,
   "metadata": {},
   "outputs": [
    {
     "data": {
      "text/plain": [
       "'I could have lost my fucking hands. <BR> That would have kept you out of the Magic Circle.  Which was presumably the idea.  These are about Nix.'"
      ]
     },
     "execution_count": 110,
     "metadata": {},
     "output_type": "execute_result"
    }
   ],
   "source": [
    "data['dialogue'][3]"
   ]
  },
  {
   "cell_type": "code",
   "execution_count": 111,
   "metadata": {},
   "outputs": [],
   "source": [
    "#option 1: count vectorizer\n",
    "vectorizer = CountVectorizer(min_df = 10, stop_words={'english'})\n",
    "\n",
    "vectorized_train_data = vectorizer.fit_transform(train_data['dialogue'])\n",
    "vectorized_validation_data = vectorizer.transform(validation_data['dialogue'])"
   ]
  },
  {
   "cell_type": "code",
   "execution_count": 112,
   "metadata": {},
   "outputs": [
    {
     "data": {
      "text/plain": [
       "5263"
      ]
     },
     "execution_count": 112,
     "metadata": {},
     "output_type": "execute_result"
    }
   ],
   "source": [
    "len(vectorizer.vocabulary_)"
   ]
  },
  {
   "cell_type": "code",
   "execution_count": 113,
   "metadata": {},
   "outputs": [],
   "source": [
    "model = LogisticRegression()"
   ]
  },
  {
   "cell_type": "code",
   "execution_count": 114,
   "metadata": {},
   "outputs": [
    {
     "name": "stdout",
     "output_type": "stream",
     "text": [
      "... Processing u'crime'\n",
      "... Processing u'family'\n",
      "... Processing u'romance'\n",
      "... Processing u'war'\n",
      "... Processing u'comedy'\n",
      "... Processing u'sport'\n",
      "... Processing u'action'\n",
      "... Processing u'drama'\n",
      "... Processing u'mystery'\n",
      "... Processing u'adventure'\n",
      "... Processing u'musical'\n",
      "... Processing u'sci-fi'\n",
      "... Processing u'thriller'\n",
      "... Processing u'fantasy'\n",
      "... Processing u'biography'\n",
      "... Processing u'history'\n",
      "... Processing u'horror'\n",
      "... Processing u'western'\n",
      "... Processing u'animation'\n",
      "... Processing u'music'\n",
      "val accuracy = 0.93689446366782\n"
     ]
    }
   ],
   "source": [
    "val_acc = 0\n",
    "ho_acc = 0\n",
    "\n",
    "for g in genres:\n",
    "    print('... Processing {}'.format(g))\n",
    "    model.fit(vectorized_train_data, train_data[g])\n",
    "    val_preds = model.predict(vectorized_validation_data)\n",
    "    val_acc += metrics.accuracy_score(val_preds, validation_data[g])\n",
    "\n",
    "val_acc /= len(genres)\n",
    "\n",
    "print('val accuracy = {}'.format(val_acc))"
   ]
  },
  {
   "cell_type": "code",
   "execution_count": 94,
   "metadata": {},
   "outputs": [
    {
     "name": "stdout",
     "output_type": "stream",
     "text": [
      "... Processing u'crime'\n",
      "... Processing u'family'\n",
      "... Processing u'romance'\n",
      "... Processing u'war'\n",
      "... Processing u'comedy'\n",
      "... Processing u'sport'\n",
      "... Processing u'action'\n",
      "... Processing u'drama'\n",
      "... Processing u'mystery'\n",
      "... Processing u'adventure'\n",
      "... Processing u'musical'\n",
      "... Processing u'sci-fi'\n",
      "... Processing u'thriller'\n",
      "... Processing u'fantasy'\n",
      "... Processing u'biography'\n",
      "... Processing u'history'\n",
      "... Processing u'horror'\n",
      "... Processing u'western'\n",
      "... Processing u'animation'\n",
      "... Processing u'music'\n"
     ]
    }
   ],
   "source": [
    "result = test.copy()\n",
    "for g in genres:\n",
    "    print('... Processing {}'.format(g))\n",
    "    vectorizer = CountVectorizer(min_df = 50, stop_words={'english'})\n",
    "    vectorized_train_data = vectorizer.fit_transform(train_full['dialogue'])\n",
    "    vectorized_test_data = vectorizer.transform(test['dialogue'])\n",
    "    model = LogisticRegression()\n",
    "    model.fit(vectorized_train_data, train_full[g])\n",
    "    # compute the testing accuracy\n",
    "    prediction = np.array([x[1] for x in model.predict_proba(vectorized_test_data)])\n",
    "    result[g] = prediction.tolist()"
   ]
  },
  {
   "cell_type": "code",
   "execution_count": 95,
   "metadata": {},
   "outputs": [],
   "source": [
    "def process_result(result):\n",
    "    result_result = result.copy()\n",
    "    result_result['answer'] = result_result.drop(['id', 'dialogue'], axis=1).idxmax(axis=1)\n",
    "    result_result['answer'] = result_result['answer'].map(lambda x : x[2:-1])\n",
    "    result_result = result_result[['id','answer']]\n",
    "    return result_result.rename(columns={\"answer\": \"genres\"})"
   ]
  },
  {
   "cell_type": "code",
   "execution_count": 115,
   "metadata": {},
   "outputs": [
    {
     "data": {
      "text/html": [
       "<div>\n",
       "<style scoped>\n",
       "    .dataframe tbody tr th:only-of-type {\n",
       "        vertical-align: middle;\n",
       "    }\n",
       "\n",
       "    .dataframe tbody tr th {\n",
       "        vertical-align: top;\n",
       "    }\n",
       "\n",
       "    .dataframe thead th {\n",
       "        text-align: right;\n",
       "    }\n",
       "</style>\n",
       "<table border=\"1\" class=\"dataframe\">\n",
       "  <thead>\n",
       "    <tr style=\"text-align: right;\">\n",
       "      <th></th>\n",
       "      <th>id</th>\n",
       "      <th>dialogue</th>\n",
       "      <th>u'crime'</th>\n",
       "      <th>u'family'</th>\n",
       "      <th>u'romance'</th>\n",
       "      <th>u'war'</th>\n",
       "      <th>u'comedy'</th>\n",
       "      <th>u'sport'</th>\n",
       "      <th>u'action'</th>\n",
       "      <th>u'drama'</th>\n",
       "      <th>...</th>\n",
       "      <th>u'musical'</th>\n",
       "      <th>u'sci-fi'</th>\n",
       "      <th>u'thriller'</th>\n",
       "      <th>u'fantasy'</th>\n",
       "      <th>u'biography'</th>\n",
       "      <th>u'history'</th>\n",
       "      <th>u'horror'</th>\n",
       "      <th>u'western'</th>\n",
       "      <th>u'animation'</th>\n",
       "      <th>u'music'</th>\n",
       "    </tr>\n",
       "  </thead>\n",
       "  <tbody>\n",
       "    <tr>\n",
       "      <th>0</th>\n",
       "      <td>0</td>\n",
       "      <td>Boy! Did you see the way Mama whopped that dep...</td>\n",
       "      <td>0.615892</td>\n",
       "      <td>0.001418</td>\n",
       "      <td>0.075135</td>\n",
       "      <td>0.000642</td>\n",
       "      <td>0.010786</td>\n",
       "      <td>0.000154</td>\n",
       "      <td>0.029024</td>\n",
       "      <td>0.503659</td>\n",
       "      <td>...</td>\n",
       "      <td>0.000959</td>\n",
       "      <td>0.003730</td>\n",
       "      <td>0.441136</td>\n",
       "      <td>0.003633</td>\n",
       "      <td>0.000658</td>\n",
       "      <td>0.000111</td>\n",
       "      <td>0.002328</td>\n",
       "      <td>0.003803</td>\n",
       "      <td>0.000150</td>\n",
       "      <td>0.000742</td>\n",
       "    </tr>\n",
       "    <tr>\n",
       "      <th>1</th>\n",
       "      <td>1</td>\n",
       "      <td>Gordon, the insurance people are balking on th...</td>\n",
       "      <td>0.035765</td>\n",
       "      <td>0.000017</td>\n",
       "      <td>0.020644</td>\n",
       "      <td>0.016499</td>\n",
       "      <td>0.032428</td>\n",
       "      <td>0.000015</td>\n",
       "      <td>0.051428</td>\n",
       "      <td>0.995319</td>\n",
       "      <td>...</td>\n",
       "      <td>0.000065</td>\n",
       "      <td>0.006896</td>\n",
       "      <td>0.164099</td>\n",
       "      <td>0.003004</td>\n",
       "      <td>0.013302</td>\n",
       "      <td>0.008539</td>\n",
       "      <td>0.000239</td>\n",
       "      <td>0.001121</td>\n",
       "      <td>0.000907</td>\n",
       "      <td>0.000330</td>\n",
       "    </tr>\n",
       "    <tr>\n",
       "      <th>2</th>\n",
       "      <td>2</td>\n",
       "      <td>Very fancy.  Did you design the bottle? &lt;BR&gt; W...</td>\n",
       "      <td>0.009771</td>\n",
       "      <td>0.000727</td>\n",
       "      <td>0.008469</td>\n",
       "      <td>0.077320</td>\n",
       "      <td>0.020477</td>\n",
       "      <td>0.000002</td>\n",
       "      <td>0.032430</td>\n",
       "      <td>0.947937</td>\n",
       "      <td>...</td>\n",
       "      <td>0.000004</td>\n",
       "      <td>0.001645</td>\n",
       "      <td>0.007144</td>\n",
       "      <td>0.005235</td>\n",
       "      <td>0.009106</td>\n",
       "      <td>0.000061</td>\n",
       "      <td>0.000048</td>\n",
       "      <td>0.001144</td>\n",
       "      <td>0.000283</td>\n",
       "      <td>0.001496</td>\n",
       "    </tr>\n",
       "    <tr>\n",
       "      <th>3</th>\n",
       "      <td>3</td>\n",
       "      <td>It makes me so mad. Steven Schwimmer ready to ...</td>\n",
       "      <td>0.013501</td>\n",
       "      <td>0.000011</td>\n",
       "      <td>0.110806</td>\n",
       "      <td>0.094184</td>\n",
       "      <td>0.049999</td>\n",
       "      <td>0.000653</td>\n",
       "      <td>0.164667</td>\n",
       "      <td>0.946546</td>\n",
       "      <td>...</td>\n",
       "      <td>0.000400</td>\n",
       "      <td>0.005333</td>\n",
       "      <td>0.003472</td>\n",
       "      <td>0.022673</td>\n",
       "      <td>0.016210</td>\n",
       "      <td>0.002835</td>\n",
       "      <td>0.005492</td>\n",
       "      <td>0.000029</td>\n",
       "      <td>0.000020</td>\n",
       "      <td>0.027391</td>\n",
       "    </tr>\n",
       "    <tr>\n",
       "      <th>4</th>\n",
       "      <td>4</td>\n",
       "      <td>Something ought to loosen him up ... how comes...</td>\n",
       "      <td>0.125822</td>\n",
       "      <td>0.000077</td>\n",
       "      <td>0.166839</td>\n",
       "      <td>0.005279</td>\n",
       "      <td>0.247841</td>\n",
       "      <td>0.002492</td>\n",
       "      <td>0.569555</td>\n",
       "      <td>0.093431</td>\n",
       "      <td>...</td>\n",
       "      <td>0.005597</td>\n",
       "      <td>0.085251</td>\n",
       "      <td>0.464573</td>\n",
       "      <td>0.004808</td>\n",
       "      <td>0.002490</td>\n",
       "      <td>0.009909</td>\n",
       "      <td>0.071815</td>\n",
       "      <td>0.001665</td>\n",
       "      <td>0.001097</td>\n",
       "      <td>0.000526</td>\n",
       "    </tr>\n",
       "  </tbody>\n",
       "</table>\n",
       "<p>5 rows × 22 columns</p>\n",
       "</div>"
      ],
      "text/plain": [
       "   id                                           dialogue  u'crime'  u'family'  \\\n",
       "0   0  Boy! Did you see the way Mama whopped that dep...  0.615892   0.001418   \n",
       "1   1  Gordon, the insurance people are balking on th...  0.035765   0.000017   \n",
       "2   2  Very fancy.  Did you design the bottle? <BR> W...  0.009771   0.000727   \n",
       "3   3  It makes me so mad. Steven Schwimmer ready to ...  0.013501   0.000011   \n",
       "4   4  Something ought to loosen him up ... how comes...  0.125822   0.000077   \n",
       "\n",
       "   u'romance'    u'war'  u'comedy'  u'sport'  u'action'  u'drama'    ...     \\\n",
       "0    0.075135  0.000642   0.010786  0.000154   0.029024  0.503659    ...      \n",
       "1    0.020644  0.016499   0.032428  0.000015   0.051428  0.995319    ...      \n",
       "2    0.008469  0.077320   0.020477  0.000002   0.032430  0.947937    ...      \n",
       "3    0.110806  0.094184   0.049999  0.000653   0.164667  0.946546    ...      \n",
       "4    0.166839  0.005279   0.247841  0.002492   0.569555  0.093431    ...      \n",
       "\n",
       "   u'musical'  u'sci-fi'  u'thriller'  u'fantasy'  u'biography'  u'history'  \\\n",
       "0    0.000959   0.003730     0.441136    0.003633      0.000658    0.000111   \n",
       "1    0.000065   0.006896     0.164099    0.003004      0.013302    0.008539   \n",
       "2    0.000004   0.001645     0.007144    0.005235      0.009106    0.000061   \n",
       "3    0.000400   0.005333     0.003472    0.022673      0.016210    0.002835   \n",
       "4    0.005597   0.085251     0.464573    0.004808      0.002490    0.009909   \n",
       "\n",
       "   u'horror'  u'western'  u'animation'  u'music'  \n",
       "0   0.002328    0.003803      0.000150  0.000742  \n",
       "1   0.000239    0.001121      0.000907  0.000330  \n",
       "2   0.000048    0.001144      0.000283  0.001496  \n",
       "3   0.005492    0.000029      0.000020  0.027391  \n",
       "4   0.071815    0.001665      0.001097  0.000526  \n",
       "\n",
       "[5 rows x 22 columns]"
      ]
     },
     "execution_count": 115,
     "metadata": {},
     "output_type": "execute_result"
    }
   ],
   "source": [
    "result.head()"
   ]
  },
  {
   "cell_type": "code",
   "execution_count": 96,
   "metadata": {},
   "outputs": [],
   "source": [
    "result_1 = process_result(result)"
   ]
  },
  {
   "cell_type": "code",
   "execution_count": 97,
   "metadata": {},
   "outputs": [
    {
     "data": {
      "text/html": [
       "<div>\n",
       "<style scoped>\n",
       "    .dataframe tbody tr th:only-of-type {\n",
       "        vertical-align: middle;\n",
       "    }\n",
       "\n",
       "    .dataframe tbody tr th {\n",
       "        vertical-align: top;\n",
       "    }\n",
       "\n",
       "    .dataframe thead th {\n",
       "        text-align: right;\n",
       "    }\n",
       "</style>\n",
       "<table border=\"1\" class=\"dataframe\">\n",
       "  <thead>\n",
       "    <tr style=\"text-align: right;\">\n",
       "      <th></th>\n",
       "      <th>id</th>\n",
       "      <th>genres</th>\n",
       "    </tr>\n",
       "  </thead>\n",
       "  <tbody>\n",
       "    <tr>\n",
       "      <th>0</th>\n",
       "      <td>0</td>\n",
       "      <td>crime</td>\n",
       "    </tr>\n",
       "    <tr>\n",
       "      <th>1</th>\n",
       "      <td>1</td>\n",
       "      <td>drama</td>\n",
       "    </tr>\n",
       "    <tr>\n",
       "      <th>2</th>\n",
       "      <td>2</td>\n",
       "      <td>drama</td>\n",
       "    </tr>\n",
       "    <tr>\n",
       "      <th>3</th>\n",
       "      <td>3</td>\n",
       "      <td>drama</td>\n",
       "    </tr>\n",
       "    <tr>\n",
       "      <th>4</th>\n",
       "      <td>4</td>\n",
       "      <td>action</td>\n",
       "    </tr>\n",
       "  </tbody>\n",
       "</table>\n",
       "</div>"
      ],
      "text/plain": [
       "   id  genres\n",
       "0   0   crime\n",
       "1   1   drama\n",
       "2   2   drama\n",
       "3   3   drama\n",
       "4   4  action"
      ]
     },
     "execution_count": 97,
     "metadata": {},
     "output_type": "execute_result"
    }
   ],
   "source": [
    "result_1.head()"
   ]
  },
  {
   "cell_type": "code",
   "execution_count": 98,
   "metadata": {},
   "outputs": [],
   "source": [
    "result_1.to_csv ('result2_2.csv', index = False, header=True)"
   ]
  },
  {
   "cell_type": "code",
   "execution_count": 99,
   "metadata": {},
   "outputs": [
    {
     "data": {
      "text/html": [
       "<div>\n",
       "<style scoped>\n",
       "    .dataframe tbody tr th:only-of-type {\n",
       "        vertical-align: middle;\n",
       "    }\n",
       "\n",
       "    .dataframe tbody tr th {\n",
       "        vertical-align: top;\n",
       "    }\n",
       "\n",
       "    .dataframe thead th {\n",
       "        text-align: right;\n",
       "    }\n",
       "</style>\n",
       "<table border=\"1\" class=\"dataframe\">\n",
       "  <thead>\n",
       "    <tr style=\"text-align: right;\">\n",
       "      <th></th>\n",
       "      <th>id</th>\n",
       "      <th>genres</th>\n",
       "    </tr>\n",
       "  </thead>\n",
       "  <tbody>\n",
       "    <tr>\n",
       "      <th>0</th>\n",
       "      <td>0</td>\n",
       "      <td>crime</td>\n",
       "    </tr>\n",
       "    <tr>\n",
       "      <th>1</th>\n",
       "      <td>1</td>\n",
       "      <td>drama</td>\n",
       "    </tr>\n",
       "    <tr>\n",
       "      <th>2</th>\n",
       "      <td>2</td>\n",
       "      <td>drama</td>\n",
       "    </tr>\n",
       "    <tr>\n",
       "      <th>3</th>\n",
       "      <td>3</td>\n",
       "      <td>drama</td>\n",
       "    </tr>\n",
       "    <tr>\n",
       "      <th>4</th>\n",
       "      <td>4</td>\n",
       "      <td>action</td>\n",
       "    </tr>\n",
       "    <tr>\n",
       "      <th>5</th>\n",
       "      <td>5</td>\n",
       "      <td>thriller</td>\n",
       "    </tr>\n",
       "    <tr>\n",
       "      <th>6</th>\n",
       "      <td>6</td>\n",
       "      <td>romance</td>\n",
       "    </tr>\n",
       "    <tr>\n",
       "      <th>7</th>\n",
       "      <td>7</td>\n",
       "      <td>drama</td>\n",
       "    </tr>\n",
       "    <tr>\n",
       "      <th>8</th>\n",
       "      <td>8</td>\n",
       "      <td>drama</td>\n",
       "    </tr>\n",
       "    <tr>\n",
       "      <th>9</th>\n",
       "      <td>9</td>\n",
       "      <td>action</td>\n",
       "    </tr>\n",
       "    <tr>\n",
       "      <th>10</th>\n",
       "      <td>10</td>\n",
       "      <td>drama</td>\n",
       "    </tr>\n",
       "    <tr>\n",
       "      <th>11</th>\n",
       "      <td>11</td>\n",
       "      <td>thriller</td>\n",
       "    </tr>\n",
       "    <tr>\n",
       "      <th>12</th>\n",
       "      <td>12</td>\n",
       "      <td>thriller</td>\n",
       "    </tr>\n",
       "    <tr>\n",
       "      <th>13</th>\n",
       "      <td>13</td>\n",
       "      <td>thriller</td>\n",
       "    </tr>\n",
       "    <tr>\n",
       "      <th>14</th>\n",
       "      <td>14</td>\n",
       "      <td>drama</td>\n",
       "    </tr>\n",
       "    <tr>\n",
       "      <th>15</th>\n",
       "      <td>15</td>\n",
       "      <td>action</td>\n",
       "    </tr>\n",
       "    <tr>\n",
       "      <th>16</th>\n",
       "      <td>16</td>\n",
       "      <td>drama</td>\n",
       "    </tr>\n",
       "    <tr>\n",
       "      <th>17</th>\n",
       "      <td>17</td>\n",
       "      <td>drama</td>\n",
       "    </tr>\n",
       "    <tr>\n",
       "      <th>18</th>\n",
       "      <td>18</td>\n",
       "      <td>thriller</td>\n",
       "    </tr>\n",
       "    <tr>\n",
       "      <th>19</th>\n",
       "      <td>19</td>\n",
       "      <td>action</td>\n",
       "    </tr>\n",
       "    <tr>\n",
       "      <th>20</th>\n",
       "      <td>20</td>\n",
       "      <td>drama</td>\n",
       "    </tr>\n",
       "    <tr>\n",
       "      <th>21</th>\n",
       "      <td>21</td>\n",
       "      <td>thriller</td>\n",
       "    </tr>\n",
       "    <tr>\n",
       "      <th>22</th>\n",
       "      <td>22</td>\n",
       "      <td>sci-fi</td>\n",
       "    </tr>\n",
       "    <tr>\n",
       "      <th>23</th>\n",
       "      <td>23</td>\n",
       "      <td>drama</td>\n",
       "    </tr>\n",
       "    <tr>\n",
       "      <th>24</th>\n",
       "      <td>24</td>\n",
       "      <td>drama</td>\n",
       "    </tr>\n",
       "    <tr>\n",
       "      <th>25</th>\n",
       "      <td>25</td>\n",
       "      <td>drama</td>\n",
       "    </tr>\n",
       "    <tr>\n",
       "      <th>26</th>\n",
       "      <td>26</td>\n",
       "      <td>comedy</td>\n",
       "    </tr>\n",
       "    <tr>\n",
       "      <th>27</th>\n",
       "      <td>27</td>\n",
       "      <td>drama</td>\n",
       "    </tr>\n",
       "    <tr>\n",
       "      <th>28</th>\n",
       "      <td>28</td>\n",
       "      <td>thriller</td>\n",
       "    </tr>\n",
       "    <tr>\n",
       "      <th>29</th>\n",
       "      <td>29</td>\n",
       "      <td>thriller</td>\n",
       "    </tr>\n",
       "    <tr>\n",
       "      <th>...</th>\n",
       "      <td>...</td>\n",
       "      <td>...</td>\n",
       "    </tr>\n",
       "    <tr>\n",
       "      <th>70</th>\n",
       "      <td>70</td>\n",
       "      <td>thriller</td>\n",
       "    </tr>\n",
       "    <tr>\n",
       "      <th>71</th>\n",
       "      <td>71</td>\n",
       "      <td>action</td>\n",
       "    </tr>\n",
       "    <tr>\n",
       "      <th>72</th>\n",
       "      <td>72</td>\n",
       "      <td>drama</td>\n",
       "    </tr>\n",
       "    <tr>\n",
       "      <th>73</th>\n",
       "      <td>73</td>\n",
       "      <td>thriller</td>\n",
       "    </tr>\n",
       "    <tr>\n",
       "      <th>74</th>\n",
       "      <td>74</td>\n",
       "      <td>drama</td>\n",
       "    </tr>\n",
       "    <tr>\n",
       "      <th>75</th>\n",
       "      <td>75</td>\n",
       "      <td>thriller</td>\n",
       "    </tr>\n",
       "    <tr>\n",
       "      <th>76</th>\n",
       "      <td>76</td>\n",
       "      <td>comedy</td>\n",
       "    </tr>\n",
       "    <tr>\n",
       "      <th>77</th>\n",
       "      <td>77</td>\n",
       "      <td>comedy</td>\n",
       "    </tr>\n",
       "    <tr>\n",
       "      <th>78</th>\n",
       "      <td>78</td>\n",
       "      <td>thriller</td>\n",
       "    </tr>\n",
       "    <tr>\n",
       "      <th>79</th>\n",
       "      <td>79</td>\n",
       "      <td>action</td>\n",
       "    </tr>\n",
       "    <tr>\n",
       "      <th>80</th>\n",
       "      <td>80</td>\n",
       "      <td>thriller</td>\n",
       "    </tr>\n",
       "    <tr>\n",
       "      <th>81</th>\n",
       "      <td>81</td>\n",
       "      <td>thriller</td>\n",
       "    </tr>\n",
       "    <tr>\n",
       "      <th>82</th>\n",
       "      <td>82</td>\n",
       "      <td>thriller</td>\n",
       "    </tr>\n",
       "    <tr>\n",
       "      <th>83</th>\n",
       "      <td>83</td>\n",
       "      <td>thriller</td>\n",
       "    </tr>\n",
       "    <tr>\n",
       "      <th>84</th>\n",
       "      <td>84</td>\n",
       "      <td>romance</td>\n",
       "    </tr>\n",
       "    <tr>\n",
       "      <th>85</th>\n",
       "      <td>85</td>\n",
       "      <td>romance</td>\n",
       "    </tr>\n",
       "    <tr>\n",
       "      <th>86</th>\n",
       "      <td>86</td>\n",
       "      <td>drama</td>\n",
       "    </tr>\n",
       "    <tr>\n",
       "      <th>87</th>\n",
       "      <td>87</td>\n",
       "      <td>thriller</td>\n",
       "    </tr>\n",
       "    <tr>\n",
       "      <th>88</th>\n",
       "      <td>88</td>\n",
       "      <td>thriller</td>\n",
       "    </tr>\n",
       "    <tr>\n",
       "      <th>89</th>\n",
       "      <td>89</td>\n",
       "      <td>crime</td>\n",
       "    </tr>\n",
       "    <tr>\n",
       "      <th>90</th>\n",
       "      <td>90</td>\n",
       "      <td>thriller</td>\n",
       "    </tr>\n",
       "    <tr>\n",
       "      <th>91</th>\n",
       "      <td>91</td>\n",
       "      <td>thriller</td>\n",
       "    </tr>\n",
       "    <tr>\n",
       "      <th>92</th>\n",
       "      <td>92</td>\n",
       "      <td>action</td>\n",
       "    </tr>\n",
       "    <tr>\n",
       "      <th>93</th>\n",
       "      <td>93</td>\n",
       "      <td>drama</td>\n",
       "    </tr>\n",
       "    <tr>\n",
       "      <th>94</th>\n",
       "      <td>94</td>\n",
       "      <td>thriller</td>\n",
       "    </tr>\n",
       "    <tr>\n",
       "      <th>95</th>\n",
       "      <td>95</td>\n",
       "      <td>drama</td>\n",
       "    </tr>\n",
       "    <tr>\n",
       "      <th>96</th>\n",
       "      <td>96</td>\n",
       "      <td>drama</td>\n",
       "    </tr>\n",
       "    <tr>\n",
       "      <th>97</th>\n",
       "      <td>97</td>\n",
       "      <td>drama</td>\n",
       "    </tr>\n",
       "    <tr>\n",
       "      <th>98</th>\n",
       "      <td>98</td>\n",
       "      <td>comedy</td>\n",
       "    </tr>\n",
       "    <tr>\n",
       "      <th>99</th>\n",
       "      <td>99</td>\n",
       "      <td>comedy</td>\n",
       "    </tr>\n",
       "  </tbody>\n",
       "</table>\n",
       "<p>100 rows × 2 columns</p>\n",
       "</div>"
      ],
      "text/plain": [
       "    id    genres\n",
       "0    0     crime\n",
       "1    1     drama\n",
       "2    2     drama\n",
       "3    3     drama\n",
       "4    4    action\n",
       "5    5  thriller\n",
       "6    6   romance\n",
       "7    7     drama\n",
       "8    8     drama\n",
       "9    9    action\n",
       "10  10     drama\n",
       "11  11  thriller\n",
       "12  12  thriller\n",
       "13  13  thriller\n",
       "14  14     drama\n",
       "15  15    action\n",
       "16  16     drama\n",
       "17  17     drama\n",
       "18  18  thriller\n",
       "19  19    action\n",
       "20  20     drama\n",
       "21  21  thriller\n",
       "22  22    sci-fi\n",
       "23  23     drama\n",
       "24  24     drama\n",
       "25  25     drama\n",
       "26  26    comedy\n",
       "27  27     drama\n",
       "28  28  thriller\n",
       "29  29  thriller\n",
       "..  ..       ...\n",
       "70  70  thriller\n",
       "71  71    action\n",
       "72  72     drama\n",
       "73  73  thriller\n",
       "74  74     drama\n",
       "75  75  thriller\n",
       "76  76    comedy\n",
       "77  77    comedy\n",
       "78  78  thriller\n",
       "79  79    action\n",
       "80  80  thriller\n",
       "81  81  thriller\n",
       "82  82  thriller\n",
       "83  83  thriller\n",
       "84  84   romance\n",
       "85  85   romance\n",
       "86  86     drama\n",
       "87  87  thriller\n",
       "88  88  thriller\n",
       "89  89     crime\n",
       "90  90  thriller\n",
       "91  91  thriller\n",
       "92  92    action\n",
       "93  93     drama\n",
       "94  94  thriller\n",
       "95  95     drama\n",
       "96  96     drama\n",
       "97  97     drama\n",
       "98  98    comedy\n",
       "99  99    comedy\n",
       "\n",
       "[100 rows x 2 columns]"
      ]
     },
     "execution_count": 99,
     "metadata": {},
     "output_type": "execute_result"
    }
   ],
   "source": [
    "result_1[:100]"
   ]
  },
  {
   "cell_type": "code",
   "execution_count": null,
   "metadata": {},
   "outputs": [],
   "source": []
  }
 ],
 "metadata": {
  "kernelspec": {
   "display_name": "Python 3",
   "language": "python",
   "name": "python3"
  },
  "language_info": {
   "codemirror_mode": {
    "name": "ipython",
    "version": 3
   },
   "file_extension": ".py",
   "mimetype": "text/x-python",
   "name": "python",
   "nbconvert_exporter": "python",
   "pygments_lexer": "ipython3",
   "version": "3.6.10"
  }
 },
 "nbformat": 4,
 "nbformat_minor": 4
}
